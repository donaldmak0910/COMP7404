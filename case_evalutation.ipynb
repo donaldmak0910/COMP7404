{
 "cells": [
  {
   "cell_type": "code",
   "execution_count": 13,
   "metadata": {},
   "outputs": [],
   "source": [
    "import pandas as pd\n",
    "import numpy as np\n",
    "from time import time\n",
    "import matplotlib.pyplot as plt\n",
    "%matplotlib inline"
   ]
  },
  {
   "cell_type": "code",
   "execution_count": 14,
   "metadata": {},
   "outputs": [],
   "source": [
    "\"\"\" Read data to be used \"\"\"\n",
    "# In this example, a dataset about spamming is used\n",
    "data = pd.read_csv('spambase.csv',sep=\",\")\n",
    "data.head()\n",
    "\n",
    "\"\"\" Some preprocessing on data \"\"\"\n",
    "# Number of features\n",
    "m = data.shape[1]\n",
    "# Remove unwanted features\n",
    "X = data.iloc[:,0:48]\n",
    "y = data.iloc[:,(m-1):]\n",
    "\n",
    "# Turn data into onehot format\n",
    "X_onehot = pd.get_dummies(X)"
   ]
  },
  {
   "cell_type": "code",
   "execution_count": 15,
   "metadata": {},
   "outputs": [],
   "source": [
    "from sklearn.model_selection import train_test_split\n",
    "\"\"\" Splitting training and testing data \"\"\"\n",
    "X_train, X_test, y_train, y_test = train_test_split(X_onehot, y, test_size=0.25, random_state=33)"
   ]
  },
  {
   "cell_type": "code",
   "execution_count": 16,
   "metadata": {},
   "outputs": [
    {
     "name": "stdout",
     "output_type": "stream",
     "text": [
      "% of spams (train):  Spam    0.402899\n",
      "dtype: float64\n",
      "% of spams (test):  Spam    0.367507\n",
      "dtype: float64\n"
     ]
    }
   ],
   "source": [
    "print(\"% of spams (train): \", np.mean(y_train))\n",
    "print(\"% of spams (test): \", np.mean(y_test))"
   ]
  },
  {
   "cell_type": "code",
   "execution_count": 6,
   "metadata": {},
   "outputs": [],
   "source": [
    "\"\"\" Import BRF classifiers \"\"\"\n",
    "from BoostedRandomForest import BoostedRandomForest\n",
    "# Example usage\n",
    "#brf = BoostedRandomForest()\n",
    "#rf = BoostedRandomForest(weight_update=False, boosting=False)\n",
    "#brf_wout_update = BoostedRandomForest(weight_update=False)"
   ]
  },
  {
   "cell_type": "code",
   "execution_count": 7,
   "metadata": {},
   "outputs": [],
   "source": [
    "\"\"\" Default parameters \"\"\"\n",
    "# Max number of trees\n",
    "brf_params = {'T': 250,\n",
    "              'depth_max': 20,\n",
    "              'weight_update': True,\n",
    "              'boosting': True,\n",
    "             }\n"
   ]
  },
  {
   "cell_type": "code",
   "execution_count": null,
   "metadata": {},
   "outputs": [],
   "source": []
  },
  {
   "cell_type": "code",
   "execution_count": null,
   "metadata": {},
   "outputs": [],
   "source": []
  },
  {
   "cell_type": "code",
   "execution_count": null,
   "metadata": {},
   "outputs": [],
   "source": [
    "\"\"\" Without Early Stopping \"\"\"\n",
    "brf_nonstop_params = brf_params\n",
    "brf_nonstop_clf = BoostedRandomForest(**brf_nonstop_params)"
   ]
  },
  {
   "cell_type": "code",
   "execution_count": null,
   "metadata": {},
   "outputs": [],
   "source": [
    "brf_nonstop_clf.fit(X_train, y_train)"
   ]
  },
  {
   "cell_type": "code",
   "execution_count": null,
   "metadata": {},
   "outputs": [],
   "source": [
    "# Training accuracies \n",
    "brf_train_accs = brf_nonstop_clf.train_accs\n",
    "print(len(brf_train_accs))\n",
    "# Epsilons\n",
    "brf_eps = brf_nonstop_clf.all_eps\n",
    "print(len(brf_eps))\n",
    "# Alphas\n",
    "brf_alphas = brf_nonstop_clf.all_alphas\n",
    "print(len(brf_alphas))"
   ]
  },
  {
   "cell_type": "code",
   "execution_count": null,
   "metadata": {},
   "outputs": [],
   "source": []
  },
  {
   "cell_type": "code",
   "execution_count": null,
   "metadata": {},
   "outputs": [],
   "source": [
    "\"\"\" Early Stopping with eps=[1e-20, 0.5]\"\"\"\n",
    "brf_es_params = brf_params\n",
    "brf_es_params['eps_ub'] = 0.5\n",
    "brf_es_params['eps_lb'] = 1e-20\n",
    "brf_es_params['eps_exceed_limit'] = 5\n",
    "# Disable for evaluate performance after early stopping\n",
    "brf_es_params['early_stop'] = False \n",
    "\n",
    "brf_es_clf = BoostedRandomForest(**brf_es_params)"
   ]
  },
  {
   "cell_type": "code",
   "execution_count": null,
   "metadata": {},
   "outputs": [],
   "source": [
    "brf_es_clf.fit(X_train, y_train)"
   ]
  },
  {
   "cell_type": "code",
   "execution_count": null,
   "metadata": {},
   "outputs": [],
   "source": [
    "# Training accuracies \n",
    "brf_train_accs = brf_es_clf.train_accs\n",
    "print(\"Len of accs: \", len(brf_train_accs))\n",
    "# Ids of saved tress\n",
    "brf_clf_ids = brf_es_clf.clf_ids\n",
    "print(\"Len of ids: \", len(brf_clf_ids))\n",
    "# Epsilons\n",
    "brf_eps = brf_es_clf.all_eps\n",
    "print(\"Len of eps: \", len(brf_eps))\n",
    "# Alphas\n",
    "brf_alphas = brf_es_clf.all_alphas\n",
    "print(\"Len of alphs: \", len(brf_alphas))\n",
    "\n",
    "stop_index = brf_es_clf.stop_index\n",
    "print(\"Stop index: \", stop_index)"
   ]
  },
  {
   "cell_type": "code",
   "execution_count": null,
   "metadata": {},
   "outputs": [],
   "source": [
    "fig1, ax1 = plt.subplots()\n",
    "plt.title(\"Error rate vs Tree weights\")\n",
    "ax1.set_xlabel('Trees across Training')\n",
    "\n",
    "# Epsilons\n",
    "color = 'tab:orange'\n",
    "ax1.set_ylabel('eps', color=color)\n",
    "ax1.plot(brf_eps, color=color)\n",
    "ax1.tick_params(axis='y', labelcolor=color)\n",
    "\n",
    "ax2 = ax1.twinx()\n",
    "# Alphas\n",
    "color = 'tab:blue'\n",
    "ax2.set_ylabel('alphas', color=color)  \n",
    "ax2.plot(brf_alphas, color=color)\n",
    "ax2.tick_params(axis='y', labelcolor=color)\n",
    "\n",
    "# Epsilon limits\n",
    "color = \"tab:grey\"\n",
    "ax1.axhline(y=brf_es_params['eps_ub'], color=color, label=\"eps_ub\")\n",
    "ax1.axhline(y=brf_es_params['eps_lb'], color=color, label=\"eps_lb\")\n",
    "\n",
    "# Early stop\n",
    "color = 'tab:green'\n",
    "ax1.axvline(x=stop_index, color=color, label=\"early_stop\")\n",
    "\n",
    "ax1.legend(loc='center right', bbox_to_anchor=(1.37, 0.9))\n",
    "plt.subplots_adjust(right=0.4)\n",
    "fig1.tight_layout()  # otherwise the right y-label is slightly clipped\n",
    "plt.show()"
   ]
  },
  {
   "cell_type": "code",
   "execution_count": null,
   "metadata": {},
   "outputs": [],
   "source": [
    "fig, ax1 = plt.subplots()\n",
    "plt.suptitle(\"Boosted Random Forest\")\n",
    "plt.title(\"Accuracy vs #Trees\")\n",
    "ax1.set_xlabel('Trees across Training')\n",
    "\n",
    "# Accuracy\n",
    "color = 'tab:blue'\n",
    "ax1.set_ylabel('Acc')  \n",
    "ax1.plot(brf_train_accs, color=color, label=\"Acc\")\n",
    "ax1.tick_params(axis='y')\n",
    "\n",
    "# Early stop\n",
    "color = 'red'\n",
    "plt.axvline(x=stop_index, color=color, label=\"early_stop\")\n",
    "\n",
    "plt.legend()\n",
    "plt.show()\n"
   ]
  },
  {
   "cell_type": "code",
   "execution_count": 11,
   "metadata": {},
   "outputs": [],
   "source": [
    "\"\"\" Mean performance without early stop \"\"\"\n",
    "brf_ns_mean_params = brf_params"
   ]
  },
  {
   "cell_type": "code",
   "execution_count": 12,
   "metadata": {},
   "outputs": [
    {
     "name": "stdout",
     "output_type": "stream",
     "text": [
      "Iteration:  0\n",
      "Time used from start:  111.13352823257446\n",
      "Iteration:  1\n"
     ]
    },
    {
     "ename": "KeyboardInterrupt",
     "evalue": "",
     "output_type": "error",
     "traceback": [
      "\u001b[0;31m---------------------------------------------------------------------------\u001b[0m",
      "\u001b[0;31mKeyboardInterrupt\u001b[0m                         Traceback (most recent call last)",
      "\u001b[0;32m<ipython-input-12-a2e6108714cc>\u001b[0m in \u001b[0;36m<module>\u001b[0;34m\u001b[0m\n\u001b[1;32m     12\u001b[0m     \u001b[0;31m# Train classifier\u001b[0m\u001b[0;34m\u001b[0m\u001b[0;34m\u001b[0m\u001b[0m\n\u001b[1;32m     13\u001b[0m     \u001b[0mstart\u001b[0m \u001b[0;34m=\u001b[0m  \u001b[0mtime\u001b[0m\u001b[0;34m(\u001b[0m\u001b[0;34m)\u001b[0m\u001b[0;34m\u001b[0m\u001b[0m\n\u001b[0;32m---> 14\u001b[0;31m     \u001b[0mbrf_ns_mean_clf\u001b[0m\u001b[0;34m.\u001b[0m\u001b[0mfit\u001b[0m\u001b[0;34m(\u001b[0m\u001b[0mX_train\u001b[0m\u001b[0;34m,\u001b[0m \u001b[0my_train\u001b[0m\u001b[0;34m)\u001b[0m\u001b[0;34m\u001b[0m\u001b[0m\n\u001b[0m\u001b[1;32m     15\u001b[0m     \u001b[0mend\u001b[0m \u001b[0;34m=\u001b[0m \u001b[0mtime\u001b[0m\u001b[0;34m(\u001b[0m\u001b[0;34m)\u001b[0m\u001b[0;34m\u001b[0m\u001b[0m\n\u001b[1;32m     16\u001b[0m \u001b[0;34m\u001b[0m\u001b[0m\n",
      "\u001b[0;32m~/Desktop/Project/COMP7404/BoostedRandomForest.py\u001b[0m in \u001b[0;36mfit\u001b[0;34m(self, X, y)\u001b[0m\n\u001b[1;32m    166\u001b[0m \u001b[0;34m\u001b[0m\u001b[0m\n\u001b[1;32m    167\u001b[0m                     \u001b[0;31m# Predict with trees trained so far\u001b[0m\u001b[0;34m\u001b[0m\u001b[0;34m\u001b[0m\u001b[0m\n\u001b[0;32m--> 168\u001b[0;31m                     \u001b[0mpred\u001b[0m \u001b[0;34m=\u001b[0m \u001b[0mself\u001b[0m\u001b[0;34m.\u001b[0m\u001b[0mensemble_predict\u001b[0m\u001b[0;34m(\u001b[0m\u001b[0mX\u001b[0m\u001b[0;34m)\u001b[0m\u001b[0;34m\u001b[0m\u001b[0m\n\u001b[0m\u001b[1;32m    169\u001b[0m                     \u001b[0;31m# Record accuracy\u001b[0m\u001b[0;34m\u001b[0m\u001b[0;34m\u001b[0m\u001b[0m\n\u001b[1;32m    170\u001b[0m                     \u001b[0mself\u001b[0m\u001b[0;34m.\u001b[0m\u001b[0mtrain_accs\u001b[0m\u001b[0;34m.\u001b[0m\u001b[0mappend\u001b[0m\u001b[0;34m(\u001b[0m\u001b[0maccuracy_score\u001b[0m\u001b[0;34m(\u001b[0m\u001b[0my\u001b[0m\u001b[0;34m,\u001b[0m \u001b[0mpred\u001b[0m\u001b[0;34m)\u001b[0m\u001b[0;34m)\u001b[0m\u001b[0;34m\u001b[0m\u001b[0m\n",
      "\u001b[0;32m~/Desktop/Project/COMP7404/BoostedRandomForest.py\u001b[0m in \u001b[0;36mensemble_predict\u001b[0;34m(self, X)\u001b[0m\n\u001b[1;32m    190\u001b[0m         \u001b[0;32mfor\u001b[0m \u001b[0mi\u001b[0m \u001b[0;32min\u001b[0m \u001b[0mrange\u001b[0m\u001b[0;34m(\u001b[0m\u001b[0;36m0\u001b[0m\u001b[0;34m,\u001b[0m\u001b[0mlen\u001b[0m\u001b[0;34m(\u001b[0m\u001b[0mself\u001b[0m\u001b[0;34m.\u001b[0m\u001b[0mclfs\u001b[0m\u001b[0;34m)\u001b[0m\u001b[0;34m)\u001b[0m\u001b[0;34m:\u001b[0m\u001b[0;34m\u001b[0m\u001b[0m\n\u001b[1;32m    191\u001b[0m             \u001b[0mprob\u001b[0m \u001b[0;34m=\u001b[0m \u001b[0mself\u001b[0m\u001b[0;34m.\u001b[0m\u001b[0mclfs\u001b[0m\u001b[0;34m[\u001b[0m\u001b[0mi\u001b[0m\u001b[0;34m]\u001b[0m\u001b[0;34m.\u001b[0m\u001b[0mpredict_proba\u001b[0m\u001b[0;34m(\u001b[0m\u001b[0mX\u001b[0m\u001b[0;34m.\u001b[0m\u001b[0miloc\u001b[0m\u001b[0;34m[\u001b[0m\u001b[0;34m:\u001b[0m\u001b[0;34m,\u001b[0m \u001b[0mlist\u001b[0m\u001b[0;34m(\u001b[0m\u001b[0mself\u001b[0m\u001b[0;34m.\u001b[0m\u001b[0mfeature_record\u001b[0m\u001b[0;34m.\u001b[0m\u001b[0miloc\u001b[0m\u001b[0;34m[\u001b[0m\u001b[0mi\u001b[0m\u001b[0;34m,\u001b[0m\u001b[0;34m:\u001b[0m\u001b[0;34m]\u001b[0m\u001b[0;34m)\u001b[0m\u001b[0;34m]\u001b[0m\u001b[0;34m)\u001b[0m\u001b[0;34m[\u001b[0m\u001b[0;34m:\u001b[0m\u001b[0;34m,\u001b[0m\u001b[0;36m1\u001b[0m\u001b[0;34m]\u001b[0m\u001b[0;34m\u001b[0m\u001b[0m\n\u001b[0;32m--> 192\u001b[0;31m             \u001b[0mprob_mat\u001b[0m \u001b[0;34m=\u001b[0m \u001b[0mnp\u001b[0m\u001b[0;34m.\u001b[0m\u001b[0mvstack\u001b[0m\u001b[0;34m(\u001b[0m\u001b[0;34m(\u001b[0m\u001b[0mprob_mat\u001b[0m\u001b[0;34m,\u001b[0m\u001b[0mprob\u001b[0m\u001b[0;34m)\u001b[0m\u001b[0;34m)\u001b[0m\u001b[0;34m\u001b[0m\u001b[0m\n\u001b[0m\u001b[1;32m    193\u001b[0m         \u001b[0mprob_mat\u001b[0m \u001b[0;34m=\u001b[0m \u001b[0mnp\u001b[0m\u001b[0;34m.\u001b[0m\u001b[0mtranspose\u001b[0m\u001b[0;34m(\u001b[0m\u001b[0mprob_mat\u001b[0m\u001b[0;34m)\u001b[0m\u001b[0;34m\u001b[0m\u001b[0m\n\u001b[1;32m    194\u001b[0m         \u001b[0mensemble_prob\u001b[0m \u001b[0;34m=\u001b[0m \u001b[0mnp\u001b[0m\u001b[0;34m.\u001b[0m\u001b[0mmatmul\u001b[0m\u001b[0;34m(\u001b[0m\u001b[0mprob_mat\u001b[0m\u001b[0;34m,\u001b[0m\u001b[0mnp\u001b[0m\u001b[0;34m.\u001b[0m\u001b[0marray\u001b[0m\u001b[0;34m(\u001b[0m\u001b[0malphas_\u001b[0m\u001b[0;34m)\u001b[0m\u001b[0;34m)\u001b[0m\u001b[0;34m\u001b[0m\u001b[0m\n",
      "\u001b[0;32m/anaconda3/envs/face/lib/python3.6/site-packages/numpy/core/shape_base.py\u001b[0m in \u001b[0;36mvstack\u001b[0;34m(tup)\u001b[0m\n\u001b[1;32m    232\u001b[0m \u001b[0;34m\u001b[0m\u001b[0m\n\u001b[1;32m    233\u001b[0m     \"\"\"\n\u001b[0;32m--> 234\u001b[0;31m     \u001b[0;32mreturn\u001b[0m \u001b[0m_nx\u001b[0m\u001b[0;34m.\u001b[0m\u001b[0mconcatenate\u001b[0m\u001b[0;34m(\u001b[0m\u001b[0;34m[\u001b[0m\u001b[0matleast_2d\u001b[0m\u001b[0;34m(\u001b[0m\u001b[0m_m\u001b[0m\u001b[0;34m)\u001b[0m \u001b[0;32mfor\u001b[0m \u001b[0m_m\u001b[0m \u001b[0;32min\u001b[0m \u001b[0mtup\u001b[0m\u001b[0;34m]\u001b[0m\u001b[0;34m,\u001b[0m \u001b[0;36m0\u001b[0m\u001b[0;34m)\u001b[0m\u001b[0;34m\u001b[0m\u001b[0m\n\u001b[0m\u001b[1;32m    235\u001b[0m \u001b[0;34m\u001b[0m\u001b[0m\n\u001b[1;32m    236\u001b[0m \u001b[0;32mdef\u001b[0m \u001b[0mhstack\u001b[0m\u001b[0;34m(\u001b[0m\u001b[0mtup\u001b[0m\u001b[0;34m)\u001b[0m\u001b[0;34m:\u001b[0m\u001b[0;34m\u001b[0m\u001b[0m\n",
      "\u001b[0;31mKeyboardInterrupt\u001b[0m: "
     ]
    }
   ],
   "source": [
    "brf_ns_accs = []\n",
    "brf_ns_tree_cnts = []\n",
    "brf_ns_times = []\n",
    "\n",
    "loop_start = time()\n",
    "# Take mean performance from 20 trials\n",
    "for it in range(20) :\n",
    "    print(\"Iteration: \", it)\n",
    "    # Create new classifier\n",
    "    brf_ns_mean_clf = BoostedRandomForest(**brf_ns_mean_params)\n",
    "    \n",
    "    # Train classifier\n",
    "    start =  time()\n",
    "    brf_ns_mean_clf.fit(X_train, y_train)\n",
    "    end = time()\n",
    "    \n",
    "    # Record results\n",
    "    brf_ns_accs.append(brf_ns_mean_clf.train_accs)\n",
    "    brf_ns_tree_cnts.append(len(brf_ns_mean_clf.clfs))\n",
    "    brf_ns_times.append(end-start)\n",
    "    \n",
    "    print(\"Time used from start: \", time()-loop_start)\n",
    "    "
   ]
  },
  {
   "cell_type": "code",
   "execution_count": null,
   "metadata": {},
   "outputs": [],
   "source": [
    "# Find out forest with fewest tree\n",
    "brf_ns_min_tree_cnt = min(brf_ns_tree_cnts)\n",
    "print(\"Min #Tree: \", brf_ns_min_tree_cnt)\n",
    "\n",
    "brf_ns_mean_tree_cnt = np.mean(brf_ns_tree_cnts)\n",
    "print(\"Mean #Tree: \", brf_ns_mean_tree_cnt)\n",
    "\n",
    "brf_ns_mean_time = np.mean(brf_ns_times)\n",
    "print(\"Mean time used: \", brf_ns_mean_time)\n",
    "\n",
    "# Trim records by min_tree_cnt\n",
    "trimmed_accs = [ accs[:min_tree_cnt] for accs in brf_ns_accs ]\n",
    "brf_ns_mean_accs = np.mean(trimmed_accs, axis=0)\n",
    "\n",
    "print(brf_ns_mean_accs)\n"
   ]
  },
  {
   "cell_type": "code",
   "execution_count": null,
   "metadata": {},
   "outputs": [],
   "source": [
    "# Align\n",
    "\n",
    "# Output results to csv file\n",
    "brf_ns_df = pd.DataFrame({'Mean_Acc': brf_ns_mean_accs, ''})"
   ]
  },
  {
   "cell_type": "code",
   "execution_count": 27,
   "metadata": {},
   "outputs": [],
   "source": [
    "\"\"\" Mean performance with early stop \"\"\"\n",
    "brf_es_mean_params = brf_params\n",
    "brf_es_mean_params['eps_ub'] = 0.5\n",
    "brf_es_mean_params['eps_lb'] = 1e-20\n",
    "brf_es_mean_params['eps_exceed_limit'] = 5\n",
    "# Enable early stopping\n",
    "brf_es_mean_params['early_stop'] = True"
   ]
  },
  {
   "cell_type": "code",
   "execution_count": null,
   "metadata": {},
   "outputs": [
    {
     "name": "stdout",
     "output_type": "stream",
     "text": [
      "Iteration:  0\n"
     ]
    }
   ],
   "source": [
    "brf_es_accs = []\n",
    "brf_es_tree_cnts = []\n",
    "brf_es_times = []\n",
    "\n",
    "loop_start = time()\n",
    "# Take mean performance from 20 trials\n",
    "for it in range(20) :\n",
    "    print(\"Iteration: \", it)\n",
    "    # Create new classifier \n",
    "    brf_es_mean_clf = BoostedRandomForest(**brf_es_mean_params)\n",
    "    \n",
    "    # Train classifier\n",
    "    start =  time()\n",
    "    brf_es_mean_clf.fit(X_train, y_train)\n",
    "    end = time()\n",
    "    \n",
    "    # Record results\n",
    "    brf_es_accs.append(brf_es_mean_clf.train_accs)\n",
    "    brf_es_tree_cnts.append(len(brf_es_mean_clf.clfs))\n",
    "    brf_es_times.append(end-start)\n",
    "    \n",
    "    print(\"Time used from start: \", time()-loop_start)\n",
    "    "
   ]
  },
  {
   "cell_type": "code",
   "execution_count": null,
   "metadata": {},
   "outputs": [],
   "source": [
    "# Find out forest with fewest tree\n",
    "brf_es_min_tree_cnt = min(brf_es_tree_cnts)\n",
    "print(\"Min #Tree: \", brf_es_min_tree_cnt)\n",
    "\n",
    "brf_es_mean_tree_cnt = np.mean(brf_es_tree_cnts)\n",
    "print(\"Mean #Tree: \", brf_es_mean_tree_cnt)\n",
    "\n",
    "brf_es_mean_time = np.mean(brf_es_times)\n",
    "print(\"Mean time used: \", brf_es_mean_time)\n",
    "\n",
    "# Trim records by min_tree_cnt\n",
    "trimmed_accs = [ accs[:brf_es_min_tree_cnt] for accs in brf_es_accs ]\n",
    "brf_es_mean_accs = np.mean(trimmed_accs, axis=0)\n",
    "\n",
    "print(brf_es_mean_accs)\n",
    "\n"
   ]
  },
  {
   "cell_type": "code",
   "execution_count": null,
   "metadata": {},
   "outputs": [],
   "source": [
    "fig, ax1 = plt.subplots()\n",
    "plt.suptitle(\"Boosted Random Forest\")\n",
    "plt.title(\"With vs W/out Early Stops\")\n",
    "ax1.set_xlabel('Trees across Training')\n",
    "ax1.set_ylabel('Acc')  \n",
    "ax1.tick_params(axis='y')\n",
    "\n",
    "# Nonstop\n",
    "color = 'tab:blue'\n",
    "ax1.plot(brf_ns_mean_accs, color=color, label=\"Non-stop\")\n",
    "\n",
    "\n",
    "# Early Stop\n",
    "color = 'tab:red'\n",
    "ax1.plot(brf_es_mean_accs, color=color, label=\"Early Stop\")\n",
    "color = 'tab:red'\n",
    "plt.axvline(x=brf_es_min_tree_cnt, color=color, label=\"Early Stop line\")\n",
    "\n",
    "plt.legend()\n",
    "plt.show()"
   ]
  },
  {
   "cell_type": "code",
   "execution_count": null,
   "metadata": {},
   "outputs": [],
   "source": []
  },
  {
   "cell_type": "code",
   "execution_count": null,
   "metadata": {},
   "outputs": [],
   "source": []
  },
  {
   "cell_type": "code",
   "execution_count": 17,
   "metadata": {},
   "outputs": [],
   "source": [
    "\"\"\" Mean performance without weight updates without early stop \"\"\"\n",
    "brf_wout_updates_mean_params = brf_params\n",
    "brf_wout_updates_mean_params['eps_ub'] = 0.5\n",
    "brf_wout_updates_mean_params['eps_lb'] = 1e-20\n",
    "brf_wout_updates_mean_params['eps_exceed_limit'] = 5\n",
    "# Disable early stopping\n",
    "brf_wout_updates_mean_params['early_stop'] = False\n",
    "# Without weight update\n",
    "brf_wout_updates_mean_params['weight_update'] = False\n",
    "brf_wout_updates_mean_params['boosting'] = True"
   ]
  },
  {
   "cell_type": "code",
   "execution_count": 18,
   "metadata": {},
   "outputs": [
    {
     "name": "stdout",
     "output_type": "stream",
     "text": [
      "Iteration:  0\n",
      "Time used from start:  103.55438208580017\n",
      "Iteration:  1\n",
      "Time used from start:  206.36199188232422\n",
      "Iteration:  2\n",
      "Time used from start:  310.11452293395996\n",
      "Iteration:  3\n",
      "Time used from start:  411.48009490966797\n",
      "Iteration:  4\n",
      "Time used from start:  513.5435709953308\n",
      "Iteration:  5\n",
      "Time used from start:  614.5802481174469\n",
      "Iteration:  6\n",
      "Time used from start:  715.6993541717529\n",
      "Iteration:  7\n",
      "Time used from start:  817.4803278446198\n",
      "Iteration:  8\n",
      "Time used from start:  918.9615759849548\n",
      "Iteration:  9\n",
      "Time used from start:  1020.5486431121826\n",
      "Iteration:  10\n",
      "Time used from start:  1121.1737480163574\n",
      "Iteration:  11\n",
      "Time used from start:  1225.4046170711517\n",
      "Iteration:  12\n",
      "Time used from start:  1342.1464121341705\n",
      "Iteration:  13\n",
      "Time used from start:  1450.8076400756836\n",
      "Iteration:  14\n",
      "Time used from start:  1560.9579169750214\n",
      "Iteration:  15\n",
      "Time used from start:  1662.5376110076904\n",
      "Iteration:  16\n",
      "Time used from start:  1763.1003708839417\n",
      "Iteration:  17\n",
      "Time used from start:  1864.764543056488\n",
      "Iteration:  18\n",
      "Time used from start:  1965.4643340110779\n",
      "Iteration:  19\n",
      "Time used from start:  2065.0351259708405\n"
     ]
    }
   ],
   "source": [
    "brf_wout_updates_accs = []\n",
    "brf_wout_updates_tree_cnts = []\n",
    "brf_wout_updates_times = []\n",
    "\n",
    "loop_start = time()\n",
    "# Take mean performance from 20 trials\n",
    "for it in range(20) :\n",
    "    print(\"Iteration: \", it)\n",
    "    # Create new classifier \n",
    "    brf_wout_updates_mean_clf = BoostedRandomForest(**brf_wout_updates_mean_params)\n",
    "    \n",
    "    # Train classifier\n",
    "    start =  time()\n",
    "    brf_wout_updates_mean_clf.fit(X_train, y_train)\n",
    "    end = time()\n",
    "    \n",
    "    # Record results\n",
    "    brf_wout_updates_accs.append(brf_wout_updates_mean_clf.train_accs)\n",
    "    brf_wout_updates_tree_cnts.append(len(brf_wout_updates_mean_clf.clfs))\n",
    "    brf_wout_updates_times.append(end-start)\n",
    "    \n",
    "    print(\"Time used from start: \", time()-loop_start)\n",
    "    "
   ]
  },
  {
   "cell_type": "code",
   "execution_count": 22,
   "metadata": {},
   "outputs": [
    {
     "name": "stdout",
     "output_type": "stream",
     "text": [
      "Min #Tree:  250\n",
      "Mean #Tree:  250.0\n",
      "Mean time used:  103.25054233074188\n",
      "Max acc:  0.9631449275362318\n",
      "[0.87313043 0.89378261 0.9182029  0.92895652 0.93804348 0.94224638\n",
      " 0.94708696 0.94837681 0.94985507 0.95123188 0.95236232 0.95313043\n",
      " 0.95405797 0.95456522 0.95534783 0.95578261 0.95647826 0.95657971\n",
      " 0.9574058  0.95695652 0.95718841 0.9574058  0.95757971 0.95842029\n",
      " 0.9585942  0.95865217 0.95898551 0.95897101 0.95913043 0.95921739\n",
      " 0.95934783 0.95950725 0.9595942  0.95966667 0.95978261 0.96008696\n",
      " 0.96026087 0.96021739 0.96036232 0.96021739 0.96055072 0.96056522\n",
      " 0.96072464 0.96082609 0.96107246 0.96126087 0.96163768 0.9617971\n",
      " 0.96156522 0.96153623 0.96130435 0.9614058  0.96137681 0.96127536\n",
      " 0.96136232 0.96156522 0.96149275 0.96184058 0.96189855 0.96185507\n",
      " 0.96186957 0.96201449 0.96194203 0.96201449 0.96184058 0.96198551\n",
      " 0.96172464 0.96188406 0.96201449 0.96176812 0.96168116 0.96166667\n",
      " 0.96195652 0.96214493 0.96207246 0.96205797 0.96205797 0.96211594\n",
      " 0.96204348 0.96223188 0.96228986 0.96221739 0.9622029  0.96231884\n",
      " 0.96208696 0.9624058  0.96223188 0.96231884 0.96214493 0.96218841\n",
      " 0.96228986 0.96233333 0.96249275 0.96250725 0.96226087 0.96253623\n",
      " 0.9624058  0.96252174 0.9626087  0.96237681 0.96243478 0.96256522\n",
      " 0.96250725 0.96234783 0.96249275 0.9624058  0.96236232 0.96246377\n",
      " 0.9626087  0.96247826 0.96237681 0.96244928 0.96247826 0.96257971\n",
      " 0.96253623 0.96257971 0.96244928 0.96253623 0.96244928 0.96250725\n",
      " 0.96257971 0.9625942  0.96263768 0.96266667 0.96269565 0.96256522\n",
      " 0.96265217 0.96247826 0.96273913 0.9626087  0.96271014 0.96262319\n",
      " 0.96253623 0.96263768 0.96272464 0.96276812 0.96268116 0.96275362\n",
      " 0.96243478 0.9623913  0.96234783 0.96243478 0.96247826 0.96266667\n",
      " 0.96265217 0.96249275 0.96269565 0.96266667 0.96265217 0.96265217\n",
      " 0.96271014 0.96269565 0.96276812 0.96273913 0.96281159 0.9626087\n",
      " 0.96275362 0.9626087  0.9626087  0.96265217 0.9625942  0.96266667\n",
      " 0.96275362 0.9626087  0.96266667 0.96266667 0.96266667 0.96262319\n",
      " 0.96247826 0.96263768 0.96252174 0.96269565 0.96255072 0.96263768\n",
      " 0.96252174 0.96250725 0.96262319 0.9626087  0.9625942  0.9624058\n",
      " 0.96253623 0.96255072 0.96256522 0.9625942  0.96253623 0.96247826\n",
      " 0.96250725 0.96257971 0.96262319 0.96272464 0.96269565 0.9627971\n",
      " 0.96272464 0.96275362 0.96275362 0.96269565 0.96276812 0.96272464\n",
      " 0.9627971  0.96272464 0.96278261 0.96282609 0.96268116 0.96275362\n",
      " 0.96268116 0.96269565 0.96278261 0.96278261 0.9627971  0.96286957\n",
      " 0.96265217 0.96265217 0.96263768 0.96286957 0.96284058 0.96281159\n",
      " 0.96289855 0.96284058 0.96292754 0.96286957 0.96297101 0.963\n",
      " 0.96305797 0.96295652 0.96295652 0.96281159 0.96294203 0.96302899\n",
      " 0.96291304 0.96285507 0.96304348 0.96302899 0.96302899 0.96298551\n",
      " 0.96292754 0.96291304 0.96294203 0.96304348 0.96302899 0.96314493\n",
      " 0.963      0.96302899 0.96308696 0.96289855 0.96289855 0.96286957\n",
      " 0.96291304 0.96301449 0.96294203 0.96297101]\n"
     ]
    }
   ],
   "source": [
    "# Find out forest with fewest tree\n",
    "brf_wout_updates_min_tree_cnt = min(brf_wout_updates_tree_cnts)\n",
    "print(\"Min #Tree: \", brf_wout_updates_min_tree_cnt)\n",
    "\n",
    "brf_wout_updates_mean_tree_cnt = np.mean(brf_wout_updates_tree_cnts)\n",
    "print(\"Mean #Tree: \", brf_wout_updates_mean_tree_cnt)\n",
    "\n",
    "brf_wout_updates_mean_time = np.mean(brf_wout_updates_times)\n",
    "print(\"Mean time used: \", brf_wout_updates_mean_time)\n",
    "\n",
    "# Trim records by min_tree_cnt\n",
    "trimmed_accs = [ accs[:brf_wout_updates_min_tree_cnt] for accs in brf_wout_updates_accs ]\n",
    "brf_wout_updates_mean_accs = np.mean(trimmed_accs, axis=0)\n",
    "\n",
    "print(\"Max acc: \", max(brf_wout_updates_mean_accs))\n",
    "print(brf_wout_updates_mean_accs)"
   ]
  },
  {
   "cell_type": "code",
   "execution_count": null,
   "metadata": {},
   "outputs": [],
   "source": []
  },
  {
   "cell_type": "code",
   "execution_count": null,
   "metadata": {},
   "outputs": [],
   "source": []
  },
  {
   "cell_type": "code",
   "execution_count": 23,
   "metadata": {},
   "outputs": [],
   "source": [
    "\"\"\" Mean performane with RF \"\"\"\n",
    "brf_rf_mean_params = brf_params\n",
    "brf_rf_mean_params['eps_ub'] = 0.5\n",
    "brf_rf_mean_params['eps_lb'] = 1e-20\n",
    "brf_rf_mean_params['eps_exceed_limit'] = 5\n",
    "# Disable early stopping\n",
    "brf_rf_mean_params['early_stop'] = False\n",
    "# RF\n",
    "brf_rf_mean_params['weight_update'] = False\n",
    "brf_rf_mean_params['boosting'] = False"
   ]
  },
  {
   "cell_type": "code",
   "execution_count": 24,
   "metadata": {},
   "outputs": [
    {
     "name": "stdout",
     "output_type": "stream",
     "text": [
      "Iteration:  0\n",
      "Time used from start:  104.58639621734619\n",
      "Iteration:  1\n",
      "Time used from start:  213.47217631340027\n",
      "Iteration:  2\n",
      "Time used from start:  319.7023711204529\n",
      "Iteration:  3\n",
      "Time used from start:  422.6237721443176\n",
      "Iteration:  4\n",
      "Time used from start:  525.2742431163788\n",
      "Iteration:  5\n",
      "Time used from start:  627.7744829654694\n",
      "Iteration:  6\n",
      "Time used from start:  732.9789321422577\n",
      "Iteration:  7\n",
      "Time used from start:  837.5700690746307\n",
      "Iteration:  8\n",
      "Time used from start:  948.9854891300201\n",
      "Iteration:  9\n",
      "Time used from start:  1060.824354171753\n",
      "Iteration:  10\n",
      "Time used from start:  1163.0245592594147\n",
      "Iteration:  11\n",
      "Time used from start:  1264.7902400493622\n",
      "Iteration:  12\n",
      "Time used from start:  1366.9250831604004\n",
      "Iteration:  13\n",
      "Time used from start:  1469.8918342590332\n",
      "Iteration:  14\n",
      "Time used from start:  1572.4220700263977\n",
      "Iteration:  15\n",
      "Time used from start:  1679.1669890880585\n",
      "Iteration:  16\n",
      "Time used from start:  1799.1158320903778\n",
      "Iteration:  17\n",
      "Time used from start:  1914.2055869102478\n",
      "Iteration:  18\n",
      "Time used from start:  2024.7864162921906\n",
      "Iteration:  19\n",
      "Time used from start:  2130.610676050186\n"
     ]
    }
   ],
   "source": [
    "brf_rf_accs = []\n",
    "brf_rf_tree_cnts = []\n",
    "brf_rf_times = []\n",
    "\n",
    "loop_start = time()\n",
    "# Take mean performance from 20 trials\n",
    "for it in range(20) :\n",
    "    print(\"Iteration: \", it)\n",
    "    # Create new classifier \n",
    "    brf_rf_mean_clf = BoostedRandomForest(**brf_rf_mean_params)\n",
    "    \n",
    "    # Train classifier\n",
    "    start =  time()\n",
    "    brf_rf_mean_clf.fit(X_train, y_train)\n",
    "    end = time()\n",
    "    \n",
    "    # Record results\n",
    "    brf_rf_accs.append(brf_rf_mean_clf.train_accs)\n",
    "    brf_rf_tree_cnts.append(len(brf_rf_mean_clf.clfs))\n",
    "    brf_rf_times.append(end-start)\n",
    "    \n",
    "    print(\"Time used from start: \", time()-loop_start)\n",
    "    "
   ]
  },
  {
   "cell_type": "code",
   "execution_count": 26,
   "metadata": {},
   "outputs": [
    {
     "name": "stdout",
     "output_type": "stream",
     "text": [
      "Min #Tree:  250\n",
      "Mean #Tree:  250.0\n",
      "Mean time used:  106.52943848371505\n",
      "Max acc:  0.9626231884057969\n",
      "[0.87492754 0.89104348 0.9173913  0.92457971 0.93628986 0.93915942\n",
      " 0.94426087 0.94508696 0.94853623 0.94946377 0.95104348 0.95142029\n",
      " 0.95295652 0.95343478 0.954      0.95498551 0.95502899 0.95544928\n",
      " 0.95623188 0.95623188 0.9563913  0.9567971  0.95705797 0.95708696\n",
      " 0.95757971 0.95762319 0.95842029 0.95781159 0.95814493 0.95817391\n",
      " 0.95814493 0.95824638 0.95795652 0.95876812 0.95884058 0.95894203\n",
      " 0.95913043 0.95911594 0.95908696 0.95928986 0.9595942  0.95931884\n",
      " 0.95895652 0.95942029 0.95947826 0.95972464 0.95988406 0.95975362\n",
      " 0.95973913 0.95982609 0.95982609 0.95995652 0.96008696 0.96002899\n",
      " 0.96037681 0.96043478 0.9605942  0.9606087  0.96034783 0.96072464\n",
      " 0.96068116 0.96075362 0.9607971  0.96072464 0.961      0.96081159\n",
      " 0.96072464 0.96082609 0.96091304 0.96095652 0.96101449 0.96123188\n",
      " 0.96126087 0.96127536 0.96128986 0.96114493 0.96118841 0.96134783\n",
      " 0.9614058  0.96134783 0.96102899 0.96142029 0.96143478 0.96153623\n",
      " 0.9616087  0.96128986 0.96134783 0.96152174 0.96147826 0.96147826\n",
      " 0.96133333 0.96147826 0.9614058  0.96157971 0.96156522 0.96168116\n",
      " 0.96186957 0.96162319 0.96162319 0.96173913 0.96184058 0.96185507\n",
      " 0.96191304 0.9616087  0.96152174 0.96153623 0.96162319 0.96182609\n",
      " 0.96188406 0.96202899 0.96185507 0.96194203 0.96205797 0.96223188\n",
      " 0.96227536 0.9622029  0.96208696 0.96210145 0.96205797 0.96204348\n",
      " 0.96191304 0.96198551 0.96189855 0.96204348 0.96211594 0.96213043\n",
      " 0.96223188 0.96226087 0.96210145 0.9622029  0.96210145 0.96213043\n",
      " 0.96192754 0.96201449 0.96182609 0.96208696 0.96204348 0.96211594\n",
      " 0.96211594 0.96213043 0.96227536 0.96205797 0.96227536 0.96211594\n",
      " 0.96205797 0.96223188 0.96223188 0.96228986 0.96226087 0.96228986\n",
      " 0.96221739 0.96227536 0.96227536 0.96228986 0.96233333 0.9622029\n",
      " 0.96226087 0.96233333 0.9623913  0.96227536 0.96227536 0.9624058\n",
      " 0.96233333 0.96230435 0.96230435 0.96234783 0.96217391 0.9624058\n",
      " 0.96243478 0.9624058  0.96234783 0.96230435 0.96227536 0.96218841\n",
      " 0.96230435 0.96226087 0.96223188 0.96217391 0.96215942 0.9622029\n",
      " 0.96204348 0.96226087 0.96236232 0.9622029  0.96221739 0.96221739\n",
      " 0.96221739 0.96221739 0.96226087 0.96228986 0.96228986 0.96234783\n",
      " 0.96243478 0.96224638 0.96221739 0.96231884 0.96234783 0.96237681\n",
      " 0.96231884 0.9624058  0.9624058  0.96253623 0.96252174 0.96234783\n",
      " 0.96236232 0.96234783 0.9623913  0.96244928 0.96231884 0.9624058\n",
      " 0.96236232 0.96234783 0.96233333 0.96243478 0.96226087 0.96252174\n",
      " 0.96237681 0.96231884 0.96233333 0.96233333 0.96234783 0.96242029\n",
      " 0.96234783 0.96249275 0.96237681 0.96227536 0.96242029 0.96233333\n",
      " 0.96213043 0.96243478 0.96234783 0.96226087 0.96231884 0.96228986\n",
      " 0.96224638 0.9623913  0.9624058  0.96237681 0.96237681 0.9623913\n",
      " 0.9624058  0.9624058  0.96244928 0.96252174 0.96246377 0.96243478\n",
      " 0.96262319 0.9625942  0.96255072 0.96256522]\n"
     ]
    }
   ],
   "source": [
    "# Find out forest with fewest tree\n",
    "brf_rf_min_tree_cnt = min(brf_rf_tree_cnts)\n",
    "print(\"Min #Tree: \", brf_rf_min_tree_cnt)\n",
    "\n",
    "brf_rf_mean_tree_cnt = np.mean(brf_rf_tree_cnts)\n",
    "print(\"Mean #Tree: \", brf_rf_mean_tree_cnt)\n",
    "\n",
    "brf_rf_mean_time = np.mean(brf_rf_times)\n",
    "print(\"Mean time used: \", brf_rf_mean_time)\n",
    "\n",
    "# Trim records by min_tree_cnt\n",
    "trimmed_accs = [ accs[:brf_rf_min_tree_cnt] for accs in brf_rf_accs ]\n",
    "brf_rf_mean_accs = np.mean(trimmed_accs, axis=0)\n",
    "\n",
    "print(\"Max acc: \", max(brf_rf_mean_accs))\n",
    "print(brf_rf_mean_accs)"
   ]
  },
  {
   "cell_type": "code",
   "execution_count": null,
   "metadata": {},
   "outputs": [],
   "source": []
  }
 ],
 "metadata": {
  "kernelspec": {
   "display_name": "Python 3",
   "language": "python",
   "name": "python3"
  },
  "language_info": {
   "codemirror_mode": {
    "name": "ipython",
    "version": 3
   },
   "file_extension": ".py",
   "mimetype": "text/x-python",
   "name": "python",
   "nbconvert_exporter": "python",
   "pygments_lexer": "ipython3",
   "version": "3.6.6"
  }
 },
 "nbformat": 4,
 "nbformat_minor": 2
}
