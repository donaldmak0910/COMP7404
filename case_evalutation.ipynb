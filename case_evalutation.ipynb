{
 "cells": [
  {
   "cell_type": "code",
   "execution_count": 1,
   "metadata": {},
   "outputs": [],
   "source": [
    "import pandas as pd\n",
    "import numpy as np"
   ]
  },
  {
   "cell_type": "code",
   "execution_count": 2,
   "metadata": {},
   "outputs": [],
   "source": [
    "\"\"\" Read data to be used \"\"\"\n",
    "# In this example, a dataset about spamming is used\n",
    "data = pd.read_csv('spambase.csv',sep=\",\")\n",
    "data.head()\n",
    "\n",
    "\"\"\" Some preprocessing on data \"\"\"\n",
    "# Number of features\n",
    "m = data.shape[1]\n",
    "# Remove unwanted features\n",
    "X = data.iloc[:,0:48]\n",
    "y = data.iloc[:,(m-1):]\n",
    "\n",
    "# Turn data into onehot format\n",
    "X_onehot = pd.get_dummies(X)"
   ]
  },
  {
   "cell_type": "code",
   "execution_count": 3,
   "metadata": {},
   "outputs": [],
   "source": [
    "from sklearn.model_selection import train_test_split\n",
    "\"\"\" Splitting training and testing data \"\"\"\n",
    "X_train, X_test, y_train, y_test = train_test_split(X_onehot, y, test_size=0.25, random_state=33)"
   ]
  },
  {
   "cell_type": "code",
   "execution_count": 4,
   "metadata": {},
   "outputs": [
    {
     "name": "stdout",
     "output_type": "stream",
     "text": [
      "% of spams (train):  Spam    0.402899\n",
      "dtype: float64\n",
      "% of spams (test):  Spam    0.367507\n",
      "dtype: float64\n"
     ]
    }
   ],
   "source": [
    "print(\"% of spams (train): \", np.mean(y_train))\n",
    "print(\"% of spams (test): \", np.mean(y_test))"
   ]
  },
  {
   "cell_type": "code",
   "execution_count": null,
   "metadata": {},
   "outputs": [
    {
     "data": {
      "text/plain": [
       "' Example usage '"
      ]
     },
     "execution_count": 5,
     "metadata": {},
     "output_type": "execute_result"
    }
   ],
   "source": [
    "\"\"\" Import BRF classifiers \"\"\"\n",
    "from BoostedRandomForest import BoostedRandomForest\n",
    "\"\"\" Example usage \"\"\"\n",
    "#brf = BoostedRandomForest()\n",
    "#rf = BoostedRandomForest(weight_update=False, boosting=False)\n",
    "#brf_wout_update = BoostedRandomForest(weight_update=False)"
   ]
  },
  {
   "cell_type": "code",
   "execution_count": null,
   "metadata": {},
   "outputs": [],
   "source": [
    "\"\"\" Default parameters \"\"\"\n",
    "# Max number of trees\n",
    "brf_params = {'T': 250,\n",
    "              'depth_max': 20,\n",
    "              'weight_update': True,\n",
    "              'boosting': True,\n",
    "             }\n"
   ]
  },
  {
   "cell_type": "code",
   "execution_count": null,
   "metadata": {},
   "outputs": [],
   "source": []
  },
  {
   "cell_type": "code",
   "execution_count": null,
   "metadata": {},
   "outputs": [],
   "source": [
    "\"\"\" Without Early Stopping \"\"\"\n",
    "brf_nonstop_params = brf_params\n",
    "brf_nonstop_clf = BoostedRandomForest(**brf_nonstop_params)"
   ]
  },
  {
   "cell_type": "code",
   "execution_count": null,
   "metadata": {},
   "outputs": [],
   "source": [
    "brf_nonstop_clf.fit(X_train, y_train)"
   ]
  },
  {
   "cell_type": "code",
   "execution_count": null,
   "metadata": {},
   "outputs": [],
   "source": [
    "# Training accuracies \n",
    "brf_train_accs = brf_nonstop_clf.train_accs\n",
    "print(len(brf_train_accs))\n",
    "# Epsilons\n",
    "brf_eps = brf_nonstop_clf.all_eps\n",
    "print(len(brf_eps))\n",
    "# Alphas\n",
    "brf_alphas = brf_nonstop_clf.all_alphas\n",
    "print(len(brf_alphas))"
   ]
  },
  {
   "cell_type": "code",
   "execution_count": null,
   "metadata": {},
   "outputs": [],
   "source": []
  },
  {
   "cell_type": "code",
   "execution_count": null,
   "metadata": {},
   "outputs": [],
   "source": [
    "\"\"\" Early Stopping with eps=[1e-20, 0.5]\"\"\"\n",
    "brf_es_params = brf_params\n",
    "brf_es_params['eps_ub'] = 0.5\n",
    "brf_es_params['eps_lb'] = 1e-20\n",
    "brf_es_params['eps_exceed_limit'] = 5\n",
    "\n",
    "\n",
    "brf_es_clf = BoostedRandomForest(**brf_es_params)"
   ]
  },
  {
   "cell_type": "code",
   "execution_count": null,
   "metadata": {},
   "outputs": [],
   "source": [
    "brf_es_clf.fit(X_train, y_train)"
   ]
  },
  {
   "cell_type": "code",
   "execution_count": null,
   "metadata": {},
   "outputs": [],
   "source": [
    "# Training accuracies \n",
    "brf_train_accs = brf_nonstop_clf.train_accs\n",
    "print(len(brf_train_accs))\n",
    "# Epsilons\n",
    "brf_eps = brf_nonstop_clf.all_eps\n",
    "print(len(brf_eps))\n",
    "# Alphas\n",
    "brf_alphas = brf_nonstop_clf.all_alphas\n",
    "print(len(brf_alphas))"
   ]
  },
  {
   "cell_type": "code",
   "execution_count": null,
   "metadata": {},
   "outputs": [],
   "source": []
  }
 ],
 "metadata": {
  "kernelspec": {
   "display_name": "Python 3",
   "language": "python",
   "name": "python3"
  },
  "language_info": {
   "codemirror_mode": {
    "name": "ipython",
    "version": 3
   },
   "file_extension": ".py",
   "mimetype": "text/x-python",
   "name": "python",
   "nbconvert_exporter": "python",
   "pygments_lexer": "ipython3",
   "version": "3.6.6"
  }
 },
 "nbformat": 4,
 "nbformat_minor": 2
}
