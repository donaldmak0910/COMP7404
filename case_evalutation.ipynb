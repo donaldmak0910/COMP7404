{
 "cells": [
  {
   "cell_type": "code",
   "execution_count": 1,
   "metadata": {},
   "outputs": [],
   "source": [
    "import pandas as pd\n",
    "import numpy as np"
   ]
  },
  {
   "cell_type": "code",
   "execution_count": 2,
   "metadata": {},
   "outputs": [],
   "source": [
    "\"\"\" Read data to be used \"\"\"\n",
    "# In this example, a dataset about spamming is used\n",
    "data = pd.read_csv('spambase.csv',sep=\",\")\n",
    "data.head()\n",
    "\n",
    "\"\"\" Some preprocessing on data \"\"\"\n",
    "# Number of features\n",
    "m = data.shape[1]\n",
    "# Remove unwanted features\n",
    "X = data.iloc[:,0:48]\n",
    "y = data.iloc[:,(m-1):]\n",
    "\n",
    "# Turn data into onehot format\n",
    "X_onehot = pd.get_dummies(X)"
   ]
  },
  {
   "cell_type": "code",
   "execution_count": 3,
   "metadata": {},
   "outputs": [],
   "source": [
    "from sklearn.model_selection import train_test_split\n",
    "\"\"\" Splitting training and testing data \"\"\"\n",
    "X_train, X_test, y_train, y_test = train_test_split(X_onehot, y, test_size=0.25, random_state=33)"
   ]
  },
  {
   "cell_type": "code",
   "execution_count": 4,
   "metadata": {},
   "outputs": [
    {
     "name": "stdout",
     "output_type": "stream",
     "text": [
      "% of spams (train):  Spam    0.402899\n",
      "dtype: float64\n",
      "% of spams (test):  Spam    0.367507\n",
      "dtype: float64\n"
     ]
    }
   ],
   "source": [
    "print(\"% of spams (train): \", np.mean(y_train))\n",
    "print(\"% of spams (test): \", np.mean(y_test))"
   ]
  },
  {
   "cell_type": "code",
   "execution_count": 5,
   "metadata": {},
   "outputs": [
    {
     "data": {
      "text/plain": [
       "' Example usage '"
      ]
     },
     "execution_count": 5,
     "metadata": {},
     "output_type": "execute_result"
    }
   ],
   "source": [
    "\"\"\" Import BRF classifiers \"\"\"\n",
    "from BoostedRandomForest import BoostedRandomForest\n",
    "\"\"\" Example usage \"\"\"\n",
    "#brf = BoostedRandomForest()\n",
    "#rf = BoostedRandomForest(weight_update=False, boosting=False)\n",
    "#brf_wout_update = BoostedRandomForest(weight_update=False)"
   ]
  },
  {
   "cell_type": "code",
   "execution_count": 6,
   "metadata": {},
   "outputs": [],
   "source": [
    "\"\"\" Default parameters \"\"\"\n",
    "# Max number of trees\n",
    "brf_params = {'T': 250,\n",
    "              'depth_max': 20,\n",
    "              'weight_update': True,\n",
    "              'boosting': True,\n",
    "             }\n"
   ]
  },
  {
   "cell_type": "code",
   "execution_count": null,
   "metadata": {},
   "outputs": [],
   "source": []
  },
  {
   "cell_type": "code",
   "execution_count": 7,
   "metadata": {},
   "outputs": [],
   "source": [
    "\"\"\" Without Early Stopping \"\"\"\n",
    "brf_nonstop_params = brf_params\n",
    "brf_nonstop_clf = BoostedRandomForest(**brf_nonstop_params)"
   ]
  },
  {
   "cell_type": "code",
   "execution_count": 8,
   "metadata": {},
   "outputs": [],
   "source": [
    "brf_nonstop_clf.fit(X_train, y_train)"
   ]
  },
  {
   "cell_type": "code",
   "execution_count": 9,
   "metadata": {},
   "outputs": [
    {
     "name": "stdout",
     "output_type": "stream",
     "text": [
      "192\n",
      "250\n",
      "250\n"
     ]
    }
   ],
   "source": [
    "# Training accuracies \n",
    "brf_train_accs = brf_nonstop_clf.train_accs\n",
    "print(len(brf_train_accs))\n",
    "# Epsilons\n",
    "brf_eps = brf_nonstop_clf.all_eps\n",
    "print(len(brf_eps))\n",
    "# Alphas\n",
    "brf_alphas = brf_nonstop_clf.all_alphas\n",
    "print(len(brf_alphas))"
   ]
  },
  {
   "cell_type": "code",
   "execution_count": null,
   "metadata": {},
   "outputs": [],
   "source": []
  },
  {
   "cell_type": "code",
   "execution_count": 14,
   "metadata": {},
   "outputs": [],
   "source": [
    "\"\"\" Early Stopping with eps=[1e-20, 0.5]\"\"\"\n",
    "brf_es_params = brf_params\n",
    "brf_es_params['eps_ub'] = 0.5\n",
    "brf_es_params['eps_lb'] = 1e-20\n",
    "brf_es_params['eps_exceed_limit'] = 5\n",
    "# Disable for evaluate performance after early stopping\n",
    "brf_es_params['early_stop'] = False \n",
    "\n",
    "\n",
    "brf_es_clf = BoostedRandomForest(**brf_es_params)"
   ]
  },
  {
   "cell_type": "code",
   "execution_count": 15,
   "metadata": {},
   "outputs": [
    {
     "name": "stdout",
     "output_type": "stream",
     "text": [
      "1\n",
      "2\n",
      "3\n",
      "4\n",
      "5\n",
      "6\n",
      "7\n",
      "8\n",
      "9\n",
      "10\n",
      "11\n",
      "12\n",
      "13\n",
      "14\n",
      "15\n",
      "16\n",
      "17\n",
      "18\n",
      "19\n",
      "20\n",
      "21\n",
      "22\n",
      "23\n",
      "24\n",
      "25\n",
      "26\n",
      "27\n",
      "28\n",
      "29\n",
      "30\n",
      "31\n",
      "32\n",
      "33\n",
      "34\n",
      "35\n",
      "36\n",
      "37\n",
      "38\n",
      "39\n",
      "40\n",
      "41\n",
      "42\n",
      "43\n",
      "44\n",
      "45\n",
      "46\n",
      "47\n",
      "48\n",
      "49\n",
      "50\n",
      "51\n",
      "52\n",
      "53\n",
      "54\n",
      "55\n",
      "56\n"
     ]
    }
   ],
   "source": [
    "brf_es_clf.fit(X_train, y_train)"
   ]
  },
  {
   "cell_type": "code",
   "execution_count": 20,
   "metadata": {},
   "outputs": [
    {
     "name": "stdout",
     "output_type": "stream",
     "text": [
      "Len of accs:  194\n",
      "Len of eps:  250\n",
      "Len of alphs:  250\n",
      "Stop index:  87\n"
     ]
    }
   ],
   "source": [
    "# Training accuracies \n",
    "brf_train_accs = brf_es_clf.train_accs\n",
    "print(\"Len of accs: \", len(brf_train_accs))\n",
    "# Epsilons\n",
    "brf_eps = brf_es_clf.all_eps\n",
    "print(\"Len of eps: \", len(brf_eps))\n",
    "# Alphas\n",
    "brf_alphas = brf_es_clf.all_alphas\n",
    "print(\"Len of alphs: \", len(brf_alphas))\n",
    "stop_index = brf_es_clf.stop_index\n",
    "print(\"Stop index: \", stop_index)"
   ]
  },
  {
   "cell_type": "code",
   "execution_count": 19,
   "metadata": {},
   "outputs": [
    {
     "data": {
      "image/png": "[encoded data removed]",
      "text/plain": [
       "<Figure size 432x288 with 3 Axes>"
      ]
     },
     "metadata": {
      "needs_background": "light"
     },
     "output_type": "display_data"
    }
   ],
   "source": [
    "import matplotlib.pyplot as plt\n",
    "%matplotlib inline\n",
    "\n",
    "fig, ax1 = plt.subplots()\n",
    "plt.title(\"Error rate vs Tree weights\")\n",
    "ax1.set_xlabel('Trees across Training')\n",
    "\n",
    "# Epsilons\n",
    "color = 'tab:red'\n",
    "ax1.set_ylabel('eps', color=color)\n",
    "ax1.plot(brf_eps, color=color)\n",
    "ax1.tick_params(axis='y', labelcolor=color)\n",
    "\n",
    "ax2 = ax1.twinx()\n",
    "# Alphas\n",
    "color = 'tab:blue'\n",
    "ax2.set_ylabel('alphas', color=color)  \n",
    "ax2.plot(brf_alphas, color=color)\n",
    "ax2.tick_params(axis='y', labelcolor=color)\n",
    "\n",
    "# Accuracy\n",
    "ax3 = ax1.twinx()\n",
    "color = 'tab:green'\n",
    "ax2.set_ylabel('Acc', color=color)  \n",
    "ax2.plot(brf_train_accs, color=color)\n",
    "ax2.tick_params(axis='y', labelcolor=color)\n",
    "\n",
    "# Early stop\n",
    "\n",
    "\n",
    "fig.tight_layout()  # otherwise the right y-label is slightly clipped\n",
    "plt.show()"
   ]
  },
  {
   "cell_type": "code",
   "execution_count": null,
   "metadata": {},
   "outputs": [],
   "source": []
  }
 ],
 "metadata": {
  "kernelspec": {
   "display_name": "Python 3",
   "language": "python",
   "name": "python3"
  },
  "language_info": {
   "codemirror_mode": {
    "name": "ipython",
    "version": 3
   },
   "file_extension": ".py",
   "mimetype": "text/x-python",
   "name": "python",
   "nbconvert_exporter": "python",
   "pygments_lexer": "ipython3",
   "version": "3.6.6"
  }
 },
 "nbformat": 4,
 "nbformat_minor": 2
}
