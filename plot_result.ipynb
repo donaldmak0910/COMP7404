{
 "cells": [
  {
   "cell_type": "code",
   "execution_count": 12,
   "metadata": {},
   "outputs": [],
   "source": [
    "import numpy as np\n",
    "import pandas as pd\n",
    "import matplotlib.pyplot as plt\n",
    "%matplotlib inline"
   ]
  },
  {
   "cell_type": "code",
   "execution_count": null,
   "metadata": {},
   "outputs": [],
   "source": [
    "\"\"\" Exhaustive Evaluation  \"\"\""
   ]
  },
  {
   "cell_type": "code",
   "execution_count": 3,
   "metadata": {},
   "outputs": [
    {
     "data": {
      "text/html": [
       "<div>\n",
       "<style scoped>\n",
       "    .dataframe tbody tr th:only-of-type {\n",
       "        vertical-align: middle;\n",
       "    }\n",
       "\n",
       "    .dataframe tbody tr th {\n",
       "        vertical-align: top;\n",
       "    }\n",
       "\n",
       "    .dataframe thead th {\n",
       "        text-align: right;\n",
       "    }\n",
       "</style>\n",
       "<table border=\"1\" class=\"dataframe\">\n",
       "  <thead>\n",
       "    <tr style=\"text-align: right;\">\n",
       "      <th></th>\n",
       "      <th>Method</th>\n",
       "      <th>#Tree</th>\n",
       "      <th>Max_Depth</th>\n",
       "      <th>Mean_Acc</th>\n",
       "      <th>Mean_Time</th>\n",
       "    </tr>\n",
       "  </thead>\n",
       "  <tbody>\n",
       "    <tr>\n",
       "      <th>0</th>\n",
       "      <td>brf</td>\n",
       "      <td>5</td>\n",
       "      <td>5</td>\n",
       "      <td>0.905039</td>\n",
       "      <td>0.166839</td>\n",
       "    </tr>\n",
       "    <tr>\n",
       "      <th>1</th>\n",
       "      <td>brf</td>\n",
       "      <td>5</td>\n",
       "      <td>10</td>\n",
       "      <td>0.906777</td>\n",
       "      <td>0.133271</td>\n",
       "    </tr>\n",
       "    <tr>\n",
       "      <th>2</th>\n",
       "      <td>brf</td>\n",
       "      <td>5</td>\n",
       "      <td>15</td>\n",
       "      <td>0.906255</td>\n",
       "      <td>0.143748</td>\n",
       "    </tr>\n",
       "    <tr>\n",
       "      <th>3</th>\n",
       "      <td>brf</td>\n",
       "      <td>5</td>\n",
       "      <td>20</td>\n",
       "      <td>0.900608</td>\n",
       "      <td>0.170167</td>\n",
       "    </tr>\n",
       "    <tr>\n",
       "      <th>4</th>\n",
       "      <td>brf</td>\n",
       "      <td>5</td>\n",
       "      <td>25</td>\n",
       "      <td>0.903475</td>\n",
       "      <td>0.141150</td>\n",
       "    </tr>\n",
       "  </tbody>\n",
       "</table>\n",
       "</div>"
      ],
      "text/plain": [
       "  Method  #Tree  Max_Depth  Mean_Acc  Mean_Time\n",
       "0    brf      5          5  0.905039   0.166839\n",
       "1    brf      5         10  0.906777   0.133271\n",
       "2    brf      5         15  0.906255   0.143748\n",
       "3    brf      5         20  0.900608   0.170167\n",
       "4    brf      5         25  0.903475   0.141150"
      ]
     },
     "execution_count": 3,
     "metadata": {},
     "output_type": "execute_result"
    }
   ],
   "source": [
    "# Read results from BRF\n",
    "brf_df = pd.read_csv(\"brf_results.csv\")\n",
    "brf_df.head() "
   ]
  },
  {
   "cell_type": "code",
   "execution_count": null,
   "metadata": {},
   "outputs": [],
   "source": []
  },
  {
   "cell_type": "code",
   "execution_count": null,
   "metadata": {},
   "outputs": [],
   "source": []
  },
  {
   "cell_type": "code",
   "execution_count": 2,
   "metadata": {},
   "outputs": [
    {
     "data": {
      "text/plain": [
       "' Accuracy during training '"
      ]
     },
     "execution_count": 2,
     "metadata": {},
     "output_type": "execute_result"
    }
   ],
   "source": [
    "\"\"\" Accuracy during training \"\"\""
   ]
  },
  {
   "cell_type": "code",
   "execution_count": 24,
   "metadata": {},
   "outputs": [
    {
     "name": "stdout",
     "output_type": "stream",
     "text": [
      "163\n"
     ]
    }
   ],
   "source": [
    "# Read results from BRF\n",
    "brf_train_accs_df = pd.read_csv(\"brf_train_accs.csv\")\n",
    "brf_train_accs_df.head()\n",
    "print(len(brf_train_accs_df))\n"
   ]
  },
  {
   "cell_type": "code",
   "execution_count": 25,
   "metadata": {},
   "outputs": [
    {
     "name": "stdout",
     "output_type": "stream",
     "text": [
      "200\n"
     ]
    }
   ],
   "source": [
    "# Read results from BRF without update\n",
    "brf_wout_update_train_accs_df = pd.read_csv(\"brf_wout_update_train_accs.csv\")\n",
    "brf_wout_update_train_accs_df.head() \n",
    "print(len(brf_wout_update_train_accs_df))"
   ]
  },
  {
   "cell_type": "code",
   "execution_count": 26,
   "metadata": {},
   "outputs": [
    {
     "name": "stdout",
     "output_type": "stream",
     "text": [
      "200\n"
     ]
    }
   ],
   "source": [
    "# Read results from BRF as RF only\n",
    "brf_rf_train_accs_df = pd.read_csv(\"brf_rf_train_accs.csv\")\n",
    "brf_rf_train_accs_df.head() \n",
    "print(len(brf_rf_train_accs_df))"
   ]
  },
  {
   "cell_type": "code",
   "execution_count": 38,
   "metadata": {},
   "outputs": [
    {
     "data": {
      "image/png": "[encoded data removed]",
      "text/plain": [
       "<Figure size 432x288 with 1 Axes>"
      ]
     },
     "metadata": {
      "needs_background": "light"
     },
     "output_type": "display_data"
    }
   ],
   "source": [
    "# Plot results\n",
    "T = 150\n",
    "\n",
    "fig = plt.figure()\n",
    "ax = fig.add_subplot(1, 1, 1)\n",
    "\n",
    "ax.plot(brf_train_accs_df.iloc[:T], label=\"BRF\")\n",
    "ax.plot(brf_wout_update_train_accs_df.iloc[:T], label=\"W/out Update\")\n",
    "ax.plot(brf_rf_train_accs_df.iloc[:T], label=\"RF\")\n",
    "\n",
    "ax.set_xticks(range(0, T+1, 10))\n",
    "\n",
    "plt.ylabel('Accuracy')\n",
    "plt.xlabel('# Trees')\n",
    "plt.suptitle('Training Accuracies with Depth=20')\n",
    "plt.title(\"Dataset: Spamebase\")\n",
    "plt.legend()\n",
    "plt.grid(True)\n",
    "plt.show()"
   ]
  },
  {
   "cell_type": "code",
   "execution_count": null,
   "metadata": {},
   "outputs": [],
   "source": []
  }
 ],
 "metadata": {
  "kernelspec": {
   "display_name": "Python 3",
   "language": "python",
   "name": "python3"
  },
  "language_info": {
   "codemirror_mode": {
    "name": "ipython",
    "version": 3
   },
   "file_extension": ".py",
   "mimetype": "text/x-python",
   "name": "python",
   "nbconvert_exporter": "python",
   "pygments_lexer": "ipython3",
   "version": "3.6.6"
  }
 },
 "nbformat": 4,
 "nbformat_minor": 2
}
