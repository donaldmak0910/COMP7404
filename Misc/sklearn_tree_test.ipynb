{
 "cells": [
  {
   "cell_type": "code",
   "execution_count": 12,
   "metadata": {},
   "outputs": [],
   "source": [
    "import pandas as pd\n"
   ]
  },
  {
   "cell_type": "code",
   "execution_count": 2,
   "metadata": {},
   "outputs": [
    {
     "name": "stdout",
     "output_type": "stream",
     "text": [
      "(45211, 17)\n",
      "   age           job  marital  education default  balance housing loan  \\\n",
      "0   58    management  married   tertiary      no     2143     yes   no   \n",
      "1   44    technician   single  secondary      no       29     yes   no   \n",
      "2   33  entrepreneur  married  secondary      no        2     yes  yes   \n",
      "3   47   blue-collar  married    unknown      no     1506     yes   no   \n",
      "4   33       unknown   single    unknown      no        1      no   no   \n",
      "\n",
      "   contact  day month  duration  campaign  pdays  previous poutcome   y  \n",
      "0  unknown    5   may       261         1     -1         0  unknown  no  \n",
      "1  unknown    5   may       151         1     -1         0  unknown  no  \n",
      "2  unknown    5   may        76         1     -1         0  unknown  no  \n",
      "3  unknown    5   may        92         1     -1         0  unknown  no  \n",
      "4  unknown    5   may       198         1     -1         0  unknown  no  \n"
     ]
    }
   ],
   "source": [
    "# Read data into pd dataframe\n",
    "data = pd.read_csv(\"Data/bank/bank-full.csv\", delimiter=\";\")\n",
    "print(data.shape)\n",
    "print(data.head())"
   ]
  },
  {
   "cell_type": "code",
   "execution_count": 3,
   "metadata": {},
   "outputs": [],
   "source": [
    "# Copy data to a new dataframe for cleaning\n",
    "clean_data = data.copy()"
   ]
  },
  {
   "cell_type": "code",
   "execution_count": 4,
   "metadata": {},
   "outputs": [],
   "source": [
    "# Columns of categorical data\n",
    "categorical_cols = ['job', 'marital', 'education', 'default', 'housing',\n",
    "       'loan', 'contact', 'poutcome']\n",
    "\n",
    "# Columns of real-valued data\n",
    "real_cols = ['age', 'balance', 'day', 'duration', 'campaign', 'pdays', 'previous']"
   ]
  },
  {
   "cell_type": "code",
   "execution_count": 5,
   "metadata": {},
   "outputs": [],
   "source": [
    "# Remove columns 'day', 'month', 'pdays'\n",
    "# which may have low correlation to output class (to be verified)\n",
    "clean_data = clean_data.drop(['day', 'month', 'pdays', 'duration'], axis=1)"
   ]
  },
  {
   "cell_type": "code",
   "execution_count": 6,
   "metadata": {},
   "outputs": [
    {
     "name": "stdout",
     "output_type": "stream",
     "text": [
      "(7842, 13)\n"
     ]
    },
    {
     "data": {
      "text/html": [
       "<div>\n",
       "<style scoped>\n",
       "    .dataframe tbody tr th:only-of-type {\n",
       "        vertical-align: middle;\n",
       "    }\n",
       "\n",
       "    .dataframe tbody tr th {\n",
       "        vertical-align: top;\n",
       "    }\n",
       "\n",
       "    .dataframe thead th {\n",
       "        text-align: right;\n",
       "    }\n",
       "</style>\n",
       "<table border=\"1\" class=\"dataframe\">\n",
       "  <thead>\n",
       "    <tr style=\"text-align: right;\">\n",
       "      <th></th>\n",
       "      <th>age</th>\n",
       "      <th>job</th>\n",
       "      <th>marital</th>\n",
       "      <th>education</th>\n",
       "      <th>default</th>\n",
       "      <th>balance</th>\n",
       "      <th>housing</th>\n",
       "      <th>loan</th>\n",
       "      <th>contact</th>\n",
       "      <th>campaign</th>\n",
       "      <th>previous</th>\n",
       "      <th>poutcome</th>\n",
       "      <th>y</th>\n",
       "    </tr>\n",
       "  </thead>\n",
       "  <tbody>\n",
       "    <tr>\n",
       "      <th>24060</th>\n",
       "      <td>33</td>\n",
       "      <td>admin.</td>\n",
       "      <td>married</td>\n",
       "      <td>tertiary</td>\n",
       "      <td>no</td>\n",
       "      <td>882</td>\n",
       "      <td>no</td>\n",
       "      <td>no</td>\n",
       "      <td>telephone</td>\n",
       "      <td>1</td>\n",
       "      <td>3</td>\n",
       "      <td>failure</td>\n",
       "      <td>no</td>\n",
       "    </tr>\n",
       "    <tr>\n",
       "      <th>24062</th>\n",
       "      <td>42</td>\n",
       "      <td>admin.</td>\n",
       "      <td>single</td>\n",
       "      <td>secondary</td>\n",
       "      <td>no</td>\n",
       "      <td>-247</td>\n",
       "      <td>yes</td>\n",
       "      <td>yes</td>\n",
       "      <td>telephone</td>\n",
       "      <td>1</td>\n",
       "      <td>1</td>\n",
       "      <td>other</td>\n",
       "      <td>yes</td>\n",
       "    </tr>\n",
       "    <tr>\n",
       "      <th>24064</th>\n",
       "      <td>33</td>\n",
       "      <td>services</td>\n",
       "      <td>married</td>\n",
       "      <td>secondary</td>\n",
       "      <td>no</td>\n",
       "      <td>3444</td>\n",
       "      <td>yes</td>\n",
       "      <td>no</td>\n",
       "      <td>telephone</td>\n",
       "      <td>1</td>\n",
       "      <td>4</td>\n",
       "      <td>failure</td>\n",
       "      <td>yes</td>\n",
       "    </tr>\n",
       "    <tr>\n",
       "      <th>24072</th>\n",
       "      <td>36</td>\n",
       "      <td>management</td>\n",
       "      <td>married</td>\n",
       "      <td>tertiary</td>\n",
       "      <td>no</td>\n",
       "      <td>2415</td>\n",
       "      <td>yes</td>\n",
       "      <td>no</td>\n",
       "      <td>telephone</td>\n",
       "      <td>1</td>\n",
       "      <td>4</td>\n",
       "      <td>other</td>\n",
       "      <td>no</td>\n",
       "    </tr>\n",
       "    <tr>\n",
       "      <th>24077</th>\n",
       "      <td>36</td>\n",
       "      <td>management</td>\n",
       "      <td>married</td>\n",
       "      <td>tertiary</td>\n",
       "      <td>no</td>\n",
       "      <td>0</td>\n",
       "      <td>yes</td>\n",
       "      <td>no</td>\n",
       "      <td>telephone</td>\n",
       "      <td>1</td>\n",
       "      <td>3</td>\n",
       "      <td>failure</td>\n",
       "      <td>yes</td>\n",
       "    </tr>\n",
       "  </tbody>\n",
       "</table>\n",
       "</div>"
      ],
      "text/plain": [
       "       age         job  marital  education default  balance housing loan  \\\n",
       "24060   33      admin.  married   tertiary      no      882      no   no   \n",
       "24062   42      admin.   single  secondary      no     -247     yes  yes   \n",
       "24064   33    services  married  secondary      no     3444     yes   no   \n",
       "24072   36  management  married   tertiary      no     2415     yes   no   \n",
       "24077   36  management  married   tertiary      no        0     yes   no   \n",
       "\n",
       "         contact  campaign  previous poutcome    y  \n",
       "24060  telephone         1         3  failure   no  \n",
       "24062  telephone         1         1    other  yes  \n",
       "24064  telephone         1         4  failure  yes  \n",
       "24072  telephone         1         4    other   no  \n",
       "24077  telephone         1         3  failure  yes  "
      ]
     },
     "metadata": {},
     "output_type": "display_data"
    }
   ],
   "source": [
    "# Remove records with \"unknown\" values in any column\n",
    "for col in categorical_cols :\n",
    "    clean_data = clean_data[clean_data[col]!=\"unknown\"]\n",
    "\n",
    "print(clean_data.shape)    \n",
    "display(clean_data.head())"
   ]
  },
  {
   "cell_type": "code",
   "execution_count": 7,
   "metadata": {},
   "outputs": [
    {
     "name": "stdout",
     "output_type": "stream",
     "text": [
      "       age  job  marital  education  default  balance  housing  loan  contact  \\\n",
      "24060   33    0        1          2        0      882        0     0        1   \n",
      "24062   42    0        2          1        0     -247        1     1        1   \n",
      "24064   33    7        1          1        0     3444        1     0        1   \n",
      "24072   36    4        1          2        0     2415        1     0        1   \n",
      "24077   36    4        1          2        0        0        1     0        1   \n",
      "\n",
      "       campaign  previous  poutcome    y  \n",
      "24060         1         3         0   no  \n",
      "24062         1         1         1  yes  \n",
      "24064         1         4         0  yes  \n",
      "24072         1         4         1   no  \n",
      "24077         1         3         0  yes  \n"
     ]
    }
   ],
   "source": [
    "from sklearn.preprocessing import LabelEncoder\n",
    "\n",
    "# Convert categorical data to nominals\n",
    "lb_make = LabelEncoder()\n",
    "for col in categorical_cols :\n",
    "    clean_data[col] = lb_make.fit_transform(clean_data[col])\n",
    "\n",
    "print(clean_data.head())"
   ]
  },
  {
   "cell_type": "code",
   "execution_count": 8,
   "metadata": {},
   "outputs": [
    {
     "name": "stdout",
     "output_type": "stream",
     "text": [
      "       age  job  marital  education  default  balance  housing  loan  contact  \\\n",
      "24060   33    0        1          2        0      882        0     0        1   \n",
      "24062   42    0        2          1        0     -247        1     1        1   \n",
      "24064   33    7        1          1        0     3444        1     0        1   \n",
      "24072   36    4        1          2        0     2415        1     0        1   \n",
      "24077   36    4        1          2        0        0        1     0        1   \n",
      "\n",
      "       campaign  previous  poutcome  y  \n",
      "24060         1         3         0  0  \n",
      "24062         1         1         1  1  \n",
      "24064         1         4         0  1  \n",
      "24072         1         4         1  0  \n",
      "24077         1         3         0  1  \n"
     ]
    }
   ],
   "source": [
    "# Label output class 'y' to {0,1}\n",
    "y_classes = ['no', 'yes']\n",
    "lb_make.fit(y_classes)\n",
    "clean_data['y'] = lb_make.fit_transform(clean_data['y'])\n",
    "print(clean_data.head())"
   ]
  },
  {
   "cell_type": "code",
   "execution_count": 10,
   "metadata": {},
   "outputs": [
    {
     "name": "stdout",
     "output_type": "stream",
     "text": [
      "       age  job  marital  education  default  balance  housing  loan  contact  \\\n",
      "24060  3.0    0        1          2        0      5.0        0     0        1   \n",
      "24062  6.0    0        2          1        0      0.0        1     1        1   \n",
      "24064  3.0    7        1          1        0      8.0        1     0        1   \n",
      "24072  4.0    4        1          2        0      8.0        1     0        1   \n",
      "24077  4.0    4        1          2        0      1.0        1     0        1   \n",
      "\n",
      "       campaign  previous  poutcome  y  \n",
      "24060         1         3         0  0  \n",
      "24062         1         1         1  1  \n",
      "24064         1         4         0  1  \n",
      "24072         1         4         1  0  \n",
      "24077         1         3         0  1  \n"
     ]
    }
   ],
   "source": [
    "from sklearn.preprocessing import KBinsDiscretizer\n",
    "\n",
    "# Binning on real-valued attributes\n",
    "# For simplicity, binning all attributes with 10 bins\n",
    "enc = KBinsDiscretizer(n_bins=10, encode='ordinal')\n",
    "\n",
    "# Binning 'age'\n",
    "col = 'age'\n",
    "enc.fit(clean_data[col].values.reshape((-1,1)))\n",
    "clean_data[col] = enc.transform(clean_data[col].values.reshape((-1,1)))\n",
    "\n",
    "# Binning 'balance'\n",
    "col = 'balance'\n",
    "enc.fit(clean_data[col].values.reshape((-1,1)))\n",
    "clean_data[col] = enc.transform(clean_data[col].values.reshape((-1,1)))\n",
    "\n",
    "\"\"\"\n",
    "# Binning 'duration'\n",
    "col = 'duration'\n",
    "enc.fit(clean_data[col].values.reshape((-1,1)))\n",
    "clean_data[col] = enc.transform(clean_data[col].values.reshape((-1,1)))\n",
    "\"\"\"\n",
    "\n",
    "print(clean_data.head())"
   ]
  },
  {
   "cell_type": "code",
   "execution_count": 14,
   "metadata": {},
   "outputs": [],
   "source": [
    "from sklearn.model_selection import train_test_split\n",
    "\n",
    "# Split data into training and testing sets\n",
    "train_X, test_X, train_y, test_y =train_test_split(clean_data.iloc[:,:-1], clean_data['y'],\n",
    "                                                   test_size=0.2, random_state=500)"
   ]
  },
  {
   "cell_type": "code",
   "execution_count": 15,
   "metadata": {},
   "outputs": [],
   "source": [
    "from sklearn.metrics import confusion_matrix\n",
    "# Evaluate prediction result with confusion matrix\n",
    "\n",
    "def eval_cm(actual, pred) :\n",
    "    tn, fp, fn, tp = confusion_matrix(actual, pred).ravel()\n",
    "    print(\"tn: {}, fp: {}, fn: {}, tp: {}\".format(tn, fp, fn, tp))\n",
    "    return tn, fp, fn, tp"
   ]
  },
  {
   "cell_type": "code",
   "execution_count": null,
   "metadata": {},
   "outputs": [],
   "source": []
  },
  {
   "cell_type": "code",
   "execution_count": 33,
   "metadata": {},
   "outputs": [],
   "source": [
    "from sklearn.tree import DecisionTreeClassifier\n",
    "# A simple Decision Tree Classifier\n",
    "\n",
    "dt_clf = DecisionTreeClassifier()\n",
    "dt_clf = dt_clf.fit(train_X, train_y)"
   ]
  },
  {
   "cell_type": "code",
   "execution_count": 34,
   "metadata": {},
   "outputs": [
    {
     "name": "stdout",
     "output_type": "stream",
     "text": [
      "tn: 994, fp: 232, fn: 215, tp: 128\n"
     ]
    },
    {
     "data": {
      "text/plain": [
       "(994, 232, 215, 128)"
      ]
     },
     "execution_count": 34,
     "metadata": {},
     "output_type": "execute_result"
    }
   ],
   "source": [
    "# Prediction\n",
    "dt_pred = dt_clf.predict(test_X)\n",
    "\n",
    "# Evaluation with confusion matrix\n",
    "eval_cm(test_y, dt_pred)"
   ]
  },
  {
   "cell_type": "code",
   "execution_count": null,
   "metadata": {},
   "outputs": [],
   "source": [
    "\n",
    "\n"
   ]
  },
  {
   "cell_type": "code",
   "execution_count": null,
   "metadata": {},
   "outputs": [],
   "source": [
    "from sklearn.ensemble import RandomForestClassifier\n",
    "# A simple Random Forest Classifier\n",
    "\n",
    "rt_clf = RandomForestClassifier()\n",
    "rt_clf = rt_clf.fit(train_X, train_y)"
   ]
  },
  {
   "cell_type": "code",
   "execution_count": null,
   "metadata": {},
   "outputs": [],
   "source": [
    "# Prediction\n",
    "rt_pred = rt_clf.predict(test_X)\n",
    "# Evaluation with confusion matrix\n",
    "eval_cm(test_y, rt_pred)"
   ]
  },
  {
   "cell_type": "code",
   "execution_count": null,
   "metadata": {},
   "outputs": [],
   "source": []
  },
  {
   "cell_type": "code",
   "execution_count": null,
   "metadata": {},
   "outputs": [],
   "source": []
  },
  {
   "cell_type": "code",
   "execution_count": null,
   "metadata": {},
   "outputs": [],
   "source": [
    "from sklearn.model_selection import GridSearchCV\n",
    "from sklearn.ensemble import RandomForestClassifier\n",
    "# Random Forest Classifier with GridSearchCV\n",
    "\n",
    "param_grid = { \n",
    "    'n_estimators': [100,200,300,400,500],\n",
    "    'max_features': ['auto', 'sqrt', 'log2'],\n",
    "    'max_depth' : [8, 10, 12, 14, 16],\n",
    "    'criterion' :['gini', 'entropy']\n",
    "}"
   ]
  },
  {
   "cell_type": "code",
   "execution_count": null,
   "metadata": {
    "scrolled": true
   },
   "outputs": [],
   "source": [
    "grid_rt_clf = GridSearchCV(estimator=RandomForestClassifier(), \n",
    "                           param_grid=param_grid, \n",
    "                           cv=3,\n",
    "                           verbose=1, \n",
    "                           n_jobs=-1)\n",
    "grid_rt_clf = grid_rt_clf.fit(train_X, train_y)"
   ]
  },
  {
   "cell_type": "code",
   "execution_count": null,
   "metadata": {},
   "outputs": [],
   "source": [
    "# Best parameters from GridSearchCV\n",
    "print(grid_rt_clf.best_params_)"
   ]
  },
  {
   "cell_type": "code",
   "execution_count": null,
   "metadata": {},
   "outputs": [],
   "source": [
    "# Prediction\n",
    "grid_rt_pred = grid_rt_clf.predict(test_X)\n",
    "\n",
    "# Evaluation with confusion matrix\n",
    "eval_cm(test_y, grid_rt_pred)"
   ]
  },
  {
   "cell_type": "code",
   "execution_count": null,
   "metadata": {},
   "outputs": [],
   "source": []
  },
  {
   "cell_type": "code",
   "execution_count": null,
   "metadata": {},
   "outputs": [],
   "source": [
    "from sklearn.ensemble import GradientBoostingClassifier\n",
    "# A simple Gradient Boosting Classifier\n",
    "\n",
    "gb_clf = GradientBoostingClassifier()\n",
    "gb_clf = gb_clf.fit(train_X, train_y)"
   ]
  },
  {
   "cell_type": "code",
   "execution_count": null,
   "metadata": {},
   "outputs": [],
   "source": [
    "# Prediction\n",
    "gb_pred = gb_clf.predict(test_X)\n",
    "\n",
    "# Evaluation with confusion matrix\n",
    "eval_cm(test_y, gb_pred)"
   ]
  },
  {
   "cell_type": "code",
   "execution_count": null,
   "metadata": {},
   "outputs": [],
   "source": []
  },
  {
   "cell_type": "code",
   "execution_count": 47,
   "metadata": {},
   "outputs": [
    {
     "data": {
      "text/plain": [
       "AdaBoostClassifier(algorithm='SAMME.R', base_estimator=None,\n",
       "          learning_rate=1.0, n_estimators=50, random_state=None)"
      ]
     },
     "execution_count": 47,
     "metadata": {},
     "output_type": "execute_result"
    }
   ],
   "source": [
    "from sklearn.ensemble import AdaBoostClassifier\n",
    "# AdaBoost Classifier\n",
    "\n",
    "ab_clf = AdaBoostClassifier()\n",
    "ab_clf.fit(train_X, train_y)"
   ]
  },
  {
   "cell_type": "code",
   "execution_count": 48,
   "metadata": {},
   "outputs": [
    {
     "name": "stdout",
     "output_type": "stream",
     "text": [
      "tn: 1159, fp: 67, fn: 214, tp: 129\n"
     ]
    },
    {
     "data": {
      "text/plain": [
       "(1159, 67, 214, 129)"
      ]
     },
     "execution_count": 48,
     "metadata": {},
     "output_type": "execute_result"
    }
   ],
   "source": [
    "# Prediction\n",
    "ab_pred = ab_clf.predict(test_X)\n",
    "\n",
    "# Evaluation with confusion matrix\n",
    "eval_cm(test_y, ab_pred)"
   ]
  },
  {
   "cell_type": "code",
   "execution_count": null,
   "metadata": {},
   "outputs": [],
   "source": []
  },
  {
   "cell_type": "code",
   "execution_count": 54,
   "metadata": {},
   "outputs": [
    {
     "name": "stdout",
     "output_type": "stream",
     "text": [
      "Fitting 3 folds for each of 729 candidates, totalling 2187 fits\n"
     ]
    },
    {
     "name": "stderr",
     "output_type": "stream",
     "text": [
      "[Parallel(n_jobs=-1)]: Using backend LokyBackend with 4 concurrent workers.\n",
      "[Parallel(n_jobs=-1)]: Done 212 tasks      | elapsed:    7.0s\n",
      "[Parallel(n_jobs=-1)]: Done 1112 tasks      | elapsed:   35.4s\n",
      "[Parallel(n_jobs=-1)]: Done 1970 tasks      | elapsed:  1.1min\n",
      "[Parallel(n_jobs=-1)]: Done 2187 out of 2187 | elapsed:  1.2min finished\n"
     ]
    }
   ],
   "source": [
    "from sklearn.model_selection import GridSearchCV\n",
    "from sklearn.ensemble import GradientBoostingClassifier\n",
    "# Gradient Boosting Classifier with GridSearchCV\n",
    "\n",
    "param_grid = {\"loss\": ['deviance'],\n",
    "              \"learning_rate\": [1e-3, 5e-3, 1e-2],\n",
    "              \"n_estimators\": [10, 50, 100],      \n",
    "              \"subsample\":[0.5, 0.8, 1.0],\n",
    "              \"criterion\": [\"friedman_mse\"],\n",
    "              \"min_samples_split\": [.1, .2, .3],\n",
    "              \"min_samples_leaf\":  [.1, .2, .3],\n",
    "              \"max_depth\": [6,9,12],\n",
    "              \"max_features\":[\"log2\"],}\n",
    "\n",
    "gb_clf = GradientBoostingClassifier()\n",
    "grid_gb_clf = GridSearchCV(estimator=gb_clf, \n",
    "                           param_grid=param_grid,\n",
    "                           cv=3,\n",
    "                           verbose=1,\n",
    "                           n_jobs=-1)\n",
    "grid_gb_clf = grid_gb_clf.fit(train_X, train_y)"
   ]
  },
  {
   "cell_type": "code",
   "execution_count": 55,
   "metadata": {},
   "outputs": [
    {
     "data": {
      "text/plain": [
       "{'criterion': 'friedman_mse',\n",
       " 'learning_rate': 0.001,\n",
       " 'loss': 'deviance',\n",
       " 'max_depth': 6,\n",
       " 'max_features': 'log2',\n",
       " 'min_samples_leaf': 0.1,\n",
       " 'min_samples_split': 0.1,\n",
       " 'n_estimators': 10,\n",
       " 'subsample': 0.5}"
      ]
     },
     "execution_count": 55,
     "metadata": {},
     "output_type": "execute_result"
    }
   ],
   "source": [
    "grid_gb_clf.best_params_"
   ]
  },
  {
   "cell_type": "code",
   "execution_count": 56,
   "metadata": {},
   "outputs": [
    {
     "name": "stdout",
     "output_type": "stream",
     "text": [
      "tn: 1226, fp: 0, fn: 343, tp: 0\n"
     ]
    },
    {
     "data": {
      "text/plain": [
       "(1226, 0, 343, 0)"
      ]
     },
     "execution_count": 56,
     "metadata": {},
     "output_type": "execute_result"
    }
   ],
   "source": [
    "# Prediction\n",
    "grid_gb_pred = grid_gb_clf.predict(test_X)\n",
    "\n",
    "# Evaluation with confusion matrix\n",
    "eval_cm(test_y, grid_gb_pred)"
   ]
  },
  {
   "cell_type": "code",
   "execution_count": null,
   "metadata": {},
   "outputs": [],
   "source": []
  }
 ],
 "metadata": {
  "kernelspec": {
   "display_name": "Python 3",
   "language": "python",
   "name": "python3"
  },
  "language_info": {
   "codemirror_mode": {
    "name": "ipython",
    "version": 3
   },
   "file_extension": ".py",
   "mimetype": "text/x-python",
   "name": "python",
   "nbconvert_exporter": "python",
   "pygments_lexer": "ipython3",
   "version": "3.6.7"
  }
 },
 "nbformat": 4,
 "nbformat_minor": 2
}
