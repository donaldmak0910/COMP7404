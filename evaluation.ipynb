{
 "cells": [
  {
   "cell_type": "code",
   "execution_count": 1,
   "metadata": {},
   "outputs": [],
   "source": [
    "import pandas as pd\n",
    "import numpy as np"
   ]
  },
  {
   "cell_type": "code",
   "execution_count": 2,
   "metadata": {},
   "outputs": [],
   "source": [
    "\"\"\" Read data to be used \"\"\"\n",
    "# In this example, a dataset about spamming is used\n",
    "data = pd.read_csv('spambase.csv',sep=\",\")\n",
    "data.head()\n",
    "\n",
    "\"\"\" Some preprocessing on data \"\"\"\n",
    "# Number of features\n",
    "m = data.shape[1]\n",
    "# Remove unwanted features\n",
    "X = data.iloc[:,0:48]\n",
    "y = data.iloc[:,(m-1):]\n",
    "\n",
    "# Turn data into onehot format\n",
    "X_onehot = pd.get_dummies(X)"
   ]
  },
  {
   "cell_type": "code",
   "execution_count": 3,
   "metadata": {},
   "outputs": [],
   "source": [
    "from sklearn.model_selection import train_test_split\n",
    "\"\"\" Splitting training and testing data \"\"\"\n",
    "X_train, X_test, y_train, y_test = train_test_split(X_onehot, y, test_size=0.25, random_state=33)"
   ]
  },
  {
   "cell_type": "code",
   "execution_count": 4,
   "metadata": {},
   "outputs": [
    {
     "data": {
      "text/plain": [
       "'brf = BoostedRandomForest()\\nrf = BoostedRandomForest(weight_update=False, boosting=False)\\nbrf_wout_update = BoostedRandomForest(weight_update=False)'"
      ]
     },
     "execution_count": 4,
     "metadata": {},
     "output_type": "execute_result"
    }
   ],
   "source": [
    "\"\"\" Import BRF classifiers \"\"\"\n",
    "from BoostedRandomForest import BoostedRandomForest\n",
    "from sklearn.ensemble import RandomForestClassifier\n",
    "\"\"\"brf = BoostedRandomForest()\n",
    "rf = BoostedRandomForest(weight_update=False, boosting=False)\n",
    "brf_wout_update = BoostedRandomForest(weight_update=False)\"\"\""
   ]
  },
  {
   "cell_type": "code",
   "execution_count": 36,
   "metadata": {},
   "outputs": [],
   "source": [
    "\"\"\" Function for evaluating a classifier\"\"\"\n",
    "from sklearn.metrics import accuracy_score\n",
    "from time import time\n",
    "\n",
    "def eval_clf(method, CLF, params, X_train, X_test, y_train, y_test, iterations) :\n",
    "    # List of accuracies in each iteration\n",
    "    accs = []\n",
    "    # List of time used for training\n",
    "    times = []\n",
    "    \n",
    "    # Train classifier for iterations\n",
    "    for it in range(iterations) :\n",
    "        #print(\"Iteraiton: \", it)        \n",
    "        # Create classifier\n",
    "        clf = CLF(**params)\n",
    "        \n",
    "        #Start timer\n",
    "        start = time()\n",
    "        # Train classifier\n",
    "        clf.fit(X_train, y_train)\n",
    "        # End timer \n",
    "        end = time()\n",
    "        # Record time\n",
    "        times.append(end-start)\n",
    "        \n",
    "        # Give predictions\n",
    "        if method == \"Ensemble\" :\n",
    "            pred = clf.ensemble_predict(X_test)\n",
    "        elif method == \"RF\" :\n",
    "            pred = clf.RF_predict(X_test)\n",
    "        else :\n",
    "            pred = clf.predict(X_test)\n",
    "            \n",
    "        # Calculate accuracy\n",
    "        acc = accuracy_score(y_test, pred)\n",
    "        \n",
    "        # Record accuracy\n",
    "        accs.append(acc)\n",
    "        \n",
    "        \n",
    "    # Return results and times used\n",
    "    return accs, times"
   ]
  },
  {
   "cell_type": "code",
   "execution_count": 40,
   "metadata": {},
   "outputs": [],
   "source": [
    "# Number of iterations to train classifier to get results\n",
    "iterations = 10\n",
    "# Max number of trees per classifier\n",
    "max_tree = 150\n",
    "# Max depth for each tree\n",
    "max_depth = 50"
   ]
  },
  {
   "cell_type": "code",
   "execution_count": null,
   "metadata": {},
   "outputs": [
    {
     "name": "stdout",
     "output_type": "stream",
     "text": [
      "Max number of trees: 5, Max depth: 5\n",
      "Mean acc: 0.90503909643788; Mean time: 0.1668393135070801\n",
      "Total time spent for evaluation:  1.7423269748687744\n",
      "Max number of trees: 5, Max depth: 10\n",
      "Mean acc: 0.9067767158992179; Mean time: 0.1332714557647705\n",
      "Total time spent for evaluation:  3.129426956176758\n",
      "Max number of trees: 5, Max depth: 15\n",
      "Mean acc: 0.9062554300608167; Mean time: 0.1437476634979248\n",
      "Total time spent for evaluation:  4.628628969192505\n",
      "Max number of trees: 5, Max depth: 20\n",
      "Mean acc: 0.9006081668114684; Mean time: 0.17016661167144775\n",
      "Total time spent for evaluation:  6.404349088668823\n",
      "Max number of trees: 5, Max depth: 25\n",
      "Mean acc: 0.903475238922676; Mean time: 0.1411504030227661\n",
      "Total time spent for evaluation:  7.874499082565308\n",
      "Max number of trees: 5, Max depth: 30\n",
      "Mean acc: 0.9041702867072111; Mean time: 0.13598909378051757\n",
      "Total time spent for evaluation:  9.289360046386719\n",
      "Max number of trees: 5, Max depth: 35\n",
      "Mean acc: 0.8968722849695917; Mean time: 0.13890743255615234\n",
      "Total time spent for evaluation:  10.732537984848022\n",
      "Max number of trees: 5, Max depth: 40\n",
      "Mean acc: 0.8910512597741095; Mean time: 0.13750760555267333\n",
      "Total time spent for evaluation:  12.161983966827393\n",
      "Max number of trees: 5, Max depth: 45\n",
      "Mean acc: 0.8944396177237184; Mean time: 0.13779075145721437\n",
      "Total time spent for evaluation:  13.595805883407593\n",
      "Max number of trees: 5, Max depth: 50\n",
      "Mean acc: 0.8961772371850566; Mean time: 0.13767685890197753\n",
      "Total time spent for evaluation:  15.025913000106812\n",
      "Max number of trees: 10, Max depth: 5\n",
      "Mean acc: 0.9123370981754995; Mean time: 0.29103190898895265\n",
      "Total time spent for evaluation:  18.035945892333984\n",
      "Max number of trees: 10, Max depth: 10\n",
      "Mean acc: 0.9218071242397915; Mean time: 0.29406712055206297\n",
      "Total time spent for evaluation:  21.070591926574707\n",
      "Max number of trees: 10, Max depth: 15\n",
      "Mean acc: 0.9181581233709817; Mean time: 0.30372979640960696\n",
      "Total time spent for evaluation:  24.204866886138916\n",
      "Max number of trees: 10, Max depth: 20\n",
      "Mean acc: 0.9134665508253693; Mean time: 0.31061906814575196\n",
      "Total time spent for evaluation:  27.412853002548218\n",
      "Max number of trees: 10, Max depth: 25\n",
      "Mean acc: 0.9142484795829713; Mean time: 0.31603877544403075\n",
      "Total time spent for evaluation:  30.673298120498657\n",
      "Max number of trees: 10, Max depth: 30\n",
      "Mean acc: 0.914509122502172; Mean time: 0.3143057346343994\n",
      "Total time spent for evaluation:  33.91432809829712\n",
      "Max number of trees: 10, Max depth: 35\n",
      "Mean acc: 0.9125977410947004; Mean time: 0.32805614471435546\n",
      "Total time spent for evaluation:  37.293505907058716\n",
      "Max number of trees: 10, Max depth: 40\n"
     ]
    }
   ],
   "source": [
    "\"\"\" Boosted Random Forest \"\"\"\n",
    "brf_params = {'weight_update': True, 'boosting': True}\n",
    "\n",
    "\n",
    "brf_results = []\n",
    "start = time()\n",
    "for T in range(5, max_tree+1, 5) :\n",
    "    for D in range(5, max_depth+1, 5) :\n",
    "        print('Max number of trees: {}, Max depth: {}'.format(T, D))\n",
    "        # Set max number of trees\n",
    "        brf_params['T'] = T\n",
    "        # Set max depth for each tree\n",
    "        brf_params['depth_max'] = D\n",
    "        # Train classifier\n",
    "        brf_accs, brf_times = eval_clf(\"Ensemble\", BoostedRandomForest, brf_params, X_train, X_test, y_train, y_test, iterations)\n",
    "        # Calcuate mean results\n",
    "        mean_acc = np.mean(brf_accs)\n",
    "        mean_time = np.mean(brf_times)\n",
    "        print(\"Mean acc: {}; Mean time: {}\".format(mean_acc, mean_time))\n",
    "        # Record results\n",
    "        brf_results.append(['brf', T, D, mean_acc, mean_time])\n",
    "        \n",
    "        # Report time used for evaluation\n",
    "        end = time()\n",
    "        print(\"Total time spent for evaluation: \", end-start)\n",
    "end = time()\n",
    "\n",
    "time "
   ]
  },
  {
   "cell_type": "code",
   "execution_count": 33,
   "metadata": {},
   "outputs": [
    {
     "name": "stdout",
     "output_type": "stream",
     "text": [
      "10\n",
      "20\n",
      "30\n",
      "40\n",
      "50\n",
      "60\n",
      "70\n",
      "80\n",
      "90\n",
      "100\n",
      "110\n",
      "120\n",
      "130\n",
      "140\n",
      "150\n"
     ]
    }
   ],
   "source": [
    "for T in range(10, max_tree+1, 10) :\n",
    "    print(T)"
   ]
  },
  {
   "cell_type": "code",
   "execution_count": 15,
   "metadata": {},
   "outputs": [
    {
     "name": "stdout",
     "output_type": "stream",
     "text": [
      "0.9294960903562121\n"
     ]
    }
   ],
   "source": [
    "print(np.mean(brf_accs))"
   ]
  },
  {
   "cell_type": "code",
   "execution_count": 9,
   "metadata": {},
   "outputs": [
    {
     "name": "stdout",
     "output_type": "stream",
     "text": [
      "Iteraiton:  0\n",
      "Iteraiton:  1\n",
      "Iteraiton:  2\n",
      "Iteraiton:  3\n",
      "Iteraiton:  4\n"
     ]
    },
    {
     "name": "stderr",
     "output_type": "stream",
     "text": [
      "/anaconda3/envs/face/lib/python3.6/site-packages/ipykernel_launcher.py:22: DataConversionWarning: A column-vector y was passed when a 1d array was expected. Please change the shape of y to (n_samples,), for example using ravel().\n",
      "/anaconda3/envs/face/lib/python3.6/site-packages/ipykernel_launcher.py:22: DataConversionWarning: A column-vector y was passed when a 1d array was expected. Please change the shape of y to (n_samples,), for example using ravel().\n",
      "/anaconda3/envs/face/lib/python3.6/site-packages/ipykernel_launcher.py:22: DataConversionWarning: A column-vector y was passed when a 1d array was expected. Please change the shape of y to (n_samples,), for example using ravel().\n",
      "/anaconda3/envs/face/lib/python3.6/site-packages/ipykernel_launcher.py:22: DataConversionWarning: A column-vector y was passed when a 1d array was expected. Please change the shape of y to (n_samples,), for example using ravel().\n",
      "/anaconda3/envs/face/lib/python3.6/site-packages/ipykernel_launcher.py:22: DataConversionWarning: A column-vector y was passed when a 1d array was expected. Please change the shape of y to (n_samples,), for example using ravel().\n"
     ]
    },
    {
     "name": "stdout",
     "output_type": "stream",
     "text": [
      "Iteraiton:  5\n",
      "Iteraiton:  6\n",
      "Iteraiton:  7\n",
      "Iteraiton:  8\n",
      "Iteraiton:  9\n"
     ]
    },
    {
     "name": "stderr",
     "output_type": "stream",
     "text": [
      "/anaconda3/envs/face/lib/python3.6/site-packages/ipykernel_launcher.py:22: DataConversionWarning: A column-vector y was passed when a 1d array was expected. Please change the shape of y to (n_samples,), for example using ravel().\n",
      "/anaconda3/envs/face/lib/python3.6/site-packages/ipykernel_launcher.py:22: DataConversionWarning: A column-vector y was passed when a 1d array was expected. Please change the shape of y to (n_samples,), for example using ravel().\n",
      "/anaconda3/envs/face/lib/python3.6/site-packages/ipykernel_launcher.py:22: DataConversionWarning: A column-vector y was passed when a 1d array was expected. Please change the shape of y to (n_samples,), for example using ravel().\n",
      "/anaconda3/envs/face/lib/python3.6/site-packages/ipykernel_launcher.py:22: DataConversionWarning: A column-vector y was passed when a 1d array was expected. Please change the shape of y to (n_samples,), for example using ravel().\n",
      "/anaconda3/envs/face/lib/python3.6/site-packages/ipykernel_launcher.py:22: DataConversionWarning: A column-vector y was passed when a 1d array was expected. Please change the shape of y to (n_samples,), for example using ravel().\n"
     ]
    },
    {
     "name": "stdout",
     "output_type": "stream",
     "text": [
      "Iteraiton:  10\n",
      "Iteraiton:  11\n",
      "Iteraiton:  12\n",
      "Iteraiton:  13\n",
      "Iteraiton:  14\n"
     ]
    },
    {
     "name": "stderr",
     "output_type": "stream",
     "text": [
      "/anaconda3/envs/face/lib/python3.6/site-packages/ipykernel_launcher.py:22: DataConversionWarning: A column-vector y was passed when a 1d array was expected. Please change the shape of y to (n_samples,), for example using ravel().\n",
      "/anaconda3/envs/face/lib/python3.6/site-packages/ipykernel_launcher.py:22: DataConversionWarning: A column-vector y was passed when a 1d array was expected. Please change the shape of y to (n_samples,), for example using ravel().\n",
      "/anaconda3/envs/face/lib/python3.6/site-packages/ipykernel_launcher.py:22: DataConversionWarning: A column-vector y was passed when a 1d array was expected. Please change the shape of y to (n_samples,), for example using ravel().\n",
      "/anaconda3/envs/face/lib/python3.6/site-packages/ipykernel_launcher.py:22: DataConversionWarning: A column-vector y was passed when a 1d array was expected. Please change the shape of y to (n_samples,), for example using ravel().\n",
      "/anaconda3/envs/face/lib/python3.6/site-packages/ipykernel_launcher.py:22: DataConversionWarning: A column-vector y was passed when a 1d array was expected. Please change the shape of y to (n_samples,), for example using ravel().\n"
     ]
    },
    {
     "name": "stdout",
     "output_type": "stream",
     "text": [
      "Iteraiton:  15\n",
      "Iteraiton:  16\n",
      "Iteraiton:  17\n",
      "Iteraiton:  18\n",
      "Iteraiton:  19\n"
     ]
    },
    {
     "name": "stderr",
     "output_type": "stream",
     "text": [
      "/anaconda3/envs/face/lib/python3.6/site-packages/ipykernel_launcher.py:22: DataConversionWarning: A column-vector y was passed when a 1d array was expected. Please change the shape of y to (n_samples,), for example using ravel().\n",
      "/anaconda3/envs/face/lib/python3.6/site-packages/ipykernel_launcher.py:22: DataConversionWarning: A column-vector y was passed when a 1d array was expected. Please change the shape of y to (n_samples,), for example using ravel().\n",
      "/anaconda3/envs/face/lib/python3.6/site-packages/ipykernel_launcher.py:22: DataConversionWarning: A column-vector y was passed when a 1d array was expected. Please change the shape of y to (n_samples,), for example using ravel().\n",
      "/anaconda3/envs/face/lib/python3.6/site-packages/ipykernel_launcher.py:22: DataConversionWarning: A column-vector y was passed when a 1d array was expected. Please change the shape of y to (n_samples,), for example using ravel().\n",
      "/anaconda3/envs/face/lib/python3.6/site-packages/ipykernel_launcher.py:22: DataConversionWarning: A column-vector y was passed when a 1d array was expected. Please change the shape of y to (n_samples,), for example using ravel().\n"
     ]
    }
   ],
   "source": [
    "rf_accs, rf_times, rt_clfs = eval_clf(\"\", RandomForestClassifier, {}, X_train, X_test, y_train, y_test, iterations)"
   ]
  },
  {
   "cell_type": "code",
   "execution_count": 10,
   "metadata": {},
   "outputs": [
    {
     "name": "stdout",
     "output_type": "stream",
     "text": [
      "[0.9391833188531712, 0.9435273675065161, 0.9409209383145091, 0.9391833188531712, 0.9417897480451781, 0.9357080799304952, 0.9409209383145091, 0.9548218940052129, 0.9313640312771503, 0.9374456993918332, 0.9383145091225021, 0.9435273675065161, 0.9304952215464813, 0.9313640312771503, 0.9365768896611643, 0.9391833188531712, 0.9374456993918332, 0.944396177237185, 0.944396177237185, 0.9409209383145091]\n",
      "[0.050575971603393555, 0.0408172607421875, 0.038609981536865234, 0.0412139892578125, 0.054486989974975586, 0.0455319881439209, 0.040560245513916016, 0.041316986083984375, 0.03984522819519043, 0.04445695877075195, 0.04268288612365723, 0.038713932037353516, 0.04107213020324707, 0.039511680603027344, 0.043576717376708984, 0.04264068603515625, 0.04109787940979004, 0.039585113525390625, 0.040570735931396484, 0.046916961669921875]\n"
     ]
    }
   ],
   "source": [
    "print(rf_accs)\n",
    "print(rf_times)"
   ]
  },
  {
   "cell_type": "code",
   "execution_count": 16,
   "metadata": {},
   "outputs": [
    {
     "name": "stdout",
     "output_type": "stream",
     "text": [
      "0.9395742832319721\n"
     ]
    }
   ],
   "source": [
    "print(np.mean(rf_accs))"
   ]
  },
  {
   "cell_type": "code",
   "execution_count": 11,
   "metadata": {},
   "outputs": [
    {
     "name": "stdout",
     "output_type": "stream",
     "text": [
      "Iteraiton:  0\n",
      "Iteraiton:  1\n",
      "Iteraiton:  2\n",
      "Iteraiton:  3\n",
      "Iteraiton:  4\n",
      "Iteraiton:  5\n",
      "Iteraiton:  6\n",
      "Iteraiton:  7\n",
      "Iteraiton:  8\n",
      "Iteraiton:  9\n",
      "Iteraiton:  10\n",
      "Iteraiton:  11\n",
      "Iteraiton:  12\n",
      "Iteraiton:  13\n",
      "Iteraiton:  14\n",
      "Iteraiton:  15\n",
      "Iteraiton:  16\n",
      "Iteraiton:  17\n",
      "Iteraiton:  18\n",
      "Iteraiton:  19\n"
     ]
    }
   ],
   "source": [
    "\"\"\" Boosted Random Forest without weights update \"\"\"\n",
    "brf_wout_update_params = {'weight_update': False, 'boosting': True}\n",
    "brf_wout_update_accs, brf_wout_update_times, brf_wout_update_clfs = eval_clf(\"Ensemble\", BoostedRandomForest, brf_wout_update_params, X_train, X_test, y_train, y_test, iterations)"
   ]
  },
  {
   "cell_type": "code",
   "execution_count": 17,
   "metadata": {},
   "outputs": [
    {
     "name": "stdout",
     "output_type": "stream",
     "text": [
      "[0.9105125977410947, 0.9122502172024327, 0.9087749782797567, 0.9148566463944396, 0.9218071242397915, 0.9139878366637706, 0.9087749782797567, 0.9139878366637706, 0.9096437880104257, 0.9105125977410947, 0.9122502172024327, 0.9131190269331017, 0.9209383145091226, 0.9218071242397915, 0.9122502172024327, 0.9131190269331017, 0.9122502172024327, 0.9165942658557776, 0.9113814074717637, 0.9165942658557776]\n",
      "[2.740494966506958, 2.6867198944091797, 2.941295862197876, 3.1523473262786865, 2.7550299167633057, 2.806382179260254, 2.691952705383301, 2.7052652835845947, 2.705120086669922, 2.702498197555542, 2.7824108600616455, 2.688153028488159, 2.708527088165283, 2.7030251026153564, 2.7201852798461914, 2.685549259185791, 2.7275540828704834, 2.6926229000091553, 2.7203118801116943, 2.751677989959717]\n"
     ]
    }
   ],
   "source": [
    "print(brf_wout_update_accs)\n",
    "print(brf_wout_update_times)"
   ]
  },
  {
   "cell_type": "code",
   "execution_count": 18,
   "metadata": {},
   "outputs": [
    {
     "name": "stdout",
     "output_type": "stream",
     "text": [
      "0.9137706342311034\n"
     ]
    }
   ],
   "source": [
    "print(np.mean(brf_wout_update_accs))"
   ]
  },
  {
   "cell_type": "code",
   "execution_count": 13,
   "metadata": {},
   "outputs": [
    {
     "name": "stdout",
     "output_type": "stream",
     "text": [
      "Iteraiton:  0\n",
      "Iteraiton:  1\n",
      "Iteraiton:  2\n",
      "Iteraiton:  3\n",
      "Iteraiton:  4\n",
      "Iteraiton:  5\n",
      "Iteraiton:  6\n",
      "Iteraiton:  7\n",
      "Iteraiton:  8\n",
      "Iteraiton:  9\n",
      "Iteraiton:  10\n",
      "Iteraiton:  11\n",
      "Iteraiton:  12\n",
      "Iteraiton:  13\n",
      "Iteraiton:  14\n",
      "Iteraiton:  15\n",
      "Iteraiton:  16\n",
      "Iteraiton:  17\n",
      "Iteraiton:  18\n",
      "Iteraiton:  19\n"
     ]
    }
   ],
   "source": [
    "\"\"\" Random Forest \"\"\"\n",
    "brf_rf_params = {'weight_update': False, 'boosting': False}\n",
    "brf_rf_accs, brf_rf_times, brf_rf_clfs = eval_clf(\"RF\", BoostedRandomForest, brf_rf_params, X_train, X_test, y_train, y_test, iterations)"
   ]
  },
  {
   "cell_type": "code",
   "execution_count": 19,
   "metadata": {},
   "outputs": [
    {
     "name": "stdout",
     "output_type": "stream",
     "text": [
      "[0.9131190269331017, 0.9079061685490878, 0.9122502172024327, 0.9105125977410947, 0.9148566463944396, 0.9157254561251086, 0.9157254561251086, 0.9113814074717637, 0.9113814074717637, 0.9139878366637706, 0.9139878366637706, 0.9122502172024327, 0.9157254561251086, 0.9052997393570807, 0.9148566463944396, 0.9131190269331017, 0.9131190269331017, 0.9113814074717637, 0.9096437880104257, 0.9148566463944396]\n",
      "[2.7335221767425537, 2.8847408294677734, 2.6722030639648438, 2.8215560913085938, 2.7033348083496094, 2.742257833480835, 2.7540910243988037, 2.787626028060913, 2.8061649799346924, 2.896130084991455, 2.816082239151001, 2.769460916519165, 3.3437459468841553, 2.7175989151000977, 2.710498094558716, 2.714344024658203, 2.7678780555725098, 2.76701021194458, 2.8184142112731934, 2.7731950283050537]\n"
     ]
    }
   ],
   "source": [
    "print(brf_rf_accs)\n",
    "print(brf_rf_times)"
   ]
  },
  {
   "cell_type": "code",
   "execution_count": 20,
   "metadata": {},
   "outputs": [
    {
     "name": "stdout",
     "output_type": "stream",
     "text": [
      "0.9125543006081667\n"
     ]
    }
   ],
   "source": [
    "print(np.mean(brf_rf_accs))"
   ]
  },
  {
   "cell_type": "code",
   "execution_count": null,
   "metadata": {},
   "outputs": [],
   "source": []
  }
 ],
 "metadata": {
  "kernelspec": {
   "display_name": "Python 3",
   "language": "python",
   "name": "python3"
  },
  "language_info": {
   "codemirror_mode": {
    "name": "ipython",
    "version": 3
   },
   "file_extension": ".py",
   "mimetype": "text/x-python",
   "name": "python",
   "nbconvert_exporter": "python",
   "pygments_lexer": "ipython3",
   "version": "3.6.6"
  }
 },
 "nbformat": 4,
 "nbformat_minor": 2
}
