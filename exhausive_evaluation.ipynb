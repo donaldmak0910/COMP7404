{
 "cells": [
  {
   "cell_type": "code",
   "execution_count": 22,
   "metadata": {},
   "outputs": [],
   "source": [
    "import pandas as pd\n",
    "import numpy as np"
   ]
  },
  {
   "cell_type": "code",
   "execution_count": 23,
   "metadata": {},
   "outputs": [],
   "source": [
    "\"\"\" Read data to be used \"\"\"\n",
    "# In this example, a dataset about spamming is used\n",
    "data = pd.read_csv('spambase.csv',sep=\",\")\n",
    "data.head()\n",
    "\n",
    "\"\"\" Some preprocessing on data \"\"\"\n",
    "# Number of features\n",
    "m = data.shape[1]\n",
    "# Remove unwanted features\n",
    "X = data.iloc[:,0:48]\n",
    "y = data.iloc[:,(m-1):]\n",
    "\n",
    "# Turn data into onehot format\n",
    "X_onehot = pd.get_dummies(X)"
   ]
  },
  {
   "cell_type": "code",
   "execution_count": 25,
   "metadata": {},
   "outputs": [],
   "source": [
    "from sklearn.model_selection import train_test_split\n",
    "\"\"\" Splitting training and testing data \"\"\"\n",
    "X_train, X_test, y_train, y_test = train_test_split(X_onehot, y, test_size=0.25, random_state=33)"
   ]
  },
  {
   "cell_type": "code",
   "execution_count": 26,
   "metadata": {},
   "outputs": [
    {
     "name": "stdout",
     "output_type": "stream",
     "text": [
      "% of spams (train):  Spam    0.402899\n",
      "dtype: float64\n",
      "% of spams (test):  Spam    0.367507\n",
      "dtype: float64\n"
     ]
    }
   ],
   "source": [
    "print(\"% of spams (train): \", np.mean(y_train))\n",
    "print(\"% of spams (test): \", np.mean(y_test))"
   ]
  },
  {
   "cell_type": "code",
   "execution_count": 4,
   "metadata": {},
   "outputs": [
    {
     "data": {
      "text/plain": [
       "'brf = BoostedRandomForest()\\nrf = BoostedRandomForest(weight_update=False, boosting=False)\\nbrf_wout_update = BoostedRandomForest(weight_update=False)'"
      ]
     },
     "execution_count": 4,
     "metadata": {},
     "output_type": "execute_result"
    }
   ],
   "source": [
    "\"\"\" Import BRF classifiers \"\"\"\n",
    "from BoostedRandomForest import BoostedRandomForest\n",
    "from sklearn.ensemble import RandomForestClassifier\n",
    "\"\"\"\n",
    "brf = BoostedRandomForest()\n",
    "rf = BoostedRandomForest(weight_update=False, boosting=False)\n",
    "brf_wout_update = BoostedRandomForest(weight_update=False)\n",
    "\"\"\""
   ]
  },
  {
   "cell_type": "code",
   "execution_count": null,
   "metadata": {},
   "outputs": [],
   "source": [
    "\"\"\" Function for evaluating a classifier\"\"\"\n",
    "from sklearn.metrics import accuracy_score\n",
    "from time import time\n",
    "\n",
    "def eval_clf(method, CLF, params, X_train, X_test, y_train, y_test, iterations) :\n",
    "    # List of accuracies in each iteration\n",
    "    accs = []\n",
    "    # List of time used for training\n",
    "    times = []\n",
    "    \n",
    "    # Train classifier for iterations\n",
    "    for it in range(iterations) :\n",
    "        #print(\"Iteraiton: \", it)        \n",
    "        # Create classifier\n",
    "        clf = CLF(**params)\n",
    "        \n",
    "        #Start timer\n",
    "        start = time()\n",
    "        # Train classifier\n",
    "        clf.fit(X_train, y_train)\n",
    "        # End timer \n",
    "        end = time()\n",
    "        # Record time\n",
    "        times.append(end-start)\n",
    "        \n",
    "        # Give predictions\n",
    "        if method == \"Ensemble\" :\n",
    "            pred = clf.ensemble_predict(X_test)\n",
    "        elif method == \"RF\" :\n",
    "            pred = clf.RF_predict(X_test)\n",
    "        else :\n",
    "            pred = clf.predict(X_test)\n",
    "            \n",
    "        # Calculate accuracy\n",
    "        acc = accuracy_score(y_test, pred)\n",
    "        \n",
    "        # Record accuracy\n",
    "        accs.append(acc)\n",
    "        \n",
    "        \n",
    "    # Return results and times used\n",
    "    return accs, times"
   ]
  },
  {
   "cell_type": "code",
   "execution_count": null,
   "metadata": {},
   "outputs": [],
   "source": [
    "# Number of iterations to train classifier to get results\n",
    "iterations = 10\n",
    "# Max number of trees per classifier\n",
    "max_tree = 150\n",
    "# Max depth for each tree\n",
    "max_depth = 50"
   ]
  },
  {
   "cell_type": "code",
   "execution_count": null,
   "metadata": {},
   "outputs": [],
   "source": [
    "\"\"\" Boosted Random Forest \"\"\"\n",
    "brf_params = {'weight_update': True, 'boosting': True}\n",
    "\n",
    "\n",
    "brf_results = []\n",
    "start = time()\n",
    "for T in range(5, max_tree+1, 5) :\n",
    "    for D in range(5, max_depth+1, 5) :\n",
    "        print('Max number of trees: {}, Max depth: {}'.format(T, D))\n",
    "        # Set max number of trees\n",
    "        brf_params['T'] = T\n",
    "        # Set max depth for each tree\n",
    "        brf_params['depth_max'] = D\n",
    "        # Train classifier\n",
    "        brf_accs, brf_times = eval_clf(\"Ensemble\", BoostedRandomForest, brf_params, X_train, X_test, y_train, y_test, iterations)\n",
    "        # Calcuate mean results\n",
    "        mean_acc = np.mean(brf_accs)\n",
    "        mean_time = np.mean(brf_times)\n",
    "        print(\"Mean acc: {}; Mean time: {}\".format(mean_acc, mean_time))\n",
    "        # Record results\n",
    "        brf_results.append(['brf', T, D, mean_acc, mean_time])\n",
    "        \n",
    "        # Report time used for evaluation\n",
    "        end = time()\n",
    "        print(\"Total time spent for evaluation: \", end-start)\n"
   ]
  },
  {
   "cell_type": "code",
   "execution_count": null,
   "metadata": {},
   "outputs": [],
   "source": [
    "# Output results to csv file\n",
    "brf_df = pd.DataFrame(brf_results)\n",
    "brf_df.to_csv(\"brf_results.csv\", header=['Method', '#Tree', 'Max_Depth', 'Mean_Acc', 'Mean_Time'], index=False) "
   ]
  },
  {
   "cell_type": "code",
   "execution_count": 32,
   "metadata": {},
   "outputs": [],
   "source": [
    "# Evaluate training accuracy on the fly\n",
    "brf_clf = BoostedRandomForest(depth_max=20, T=250, weight_update=True, boosting=True)\n",
    "brf_clf.fit(X_train, y_train)\n"
   ]
  },
  {
   "cell_type": "code",
   "execution_count": null,
   "metadata": {},
   "outputs": [],
   "source": []
  },
  {
   "cell_type": "code",
   "execution_count": null,
   "metadata": {},
   "outputs": [],
   "source": []
  },
  {
   "cell_type": "code",
   "execution_count": null,
   "metadata": {},
   "outputs": [],
   "source": []
  },
  {
   "cell_type": "code",
   "execution_count": null,
   "metadata": {},
   "outputs": [],
   "source": []
  },
  {
   "cell_type": "code",
   "execution_count": null,
   "metadata": {},
   "outputs": [],
   "source": [
    "# Output results to csv file\n",
    "brf_train_accs_df = pd.DataFrame(brf_train_accs)\n",
    "brf_train_accs_df.to_csv(\"brf_train_accs.csv\", header=['Acc'], index=False) "
   ]
  },
  {
   "cell_type": "code",
   "execution_count": null,
   "metadata": {},
   "outputs": [],
   "source": []
  },
  {
   "cell_type": "code",
   "execution_count": null,
   "metadata": {},
   "outputs": [],
   "source": [
    "\"\"\" sklearn random forest \"\"\"\n",
    "rf_accs, rf_times, rt_clfs = eval_clf(\"\", RandomForestClassifier, {}, X_train, X_test, y_train, y_test, iterations)"
   ]
  },
  {
   "cell_type": "code",
   "execution_count": null,
   "metadata": {},
   "outputs": [],
   "source": []
  },
  {
   "cell_type": "code",
   "execution_count": null,
   "metadata": {},
   "outputs": [],
   "source": [
    "\"\"\" Boosted Random Forest without weights update \"\"\"\n",
    "brf_wout_update_params = {'weight_update': False, 'boosting': True}\n",
    "\n",
    "\n",
    "brf_wout_update_results = []\n",
    "start = time()\n",
    "for T in range(5, max_tree+1, 5) :\n",
    "    for D in range(5, max_depth+1, 5) :\n",
    "        print('Max number of trees: {}, Max depth: {}'.format(T, D))\n",
    "        # Set max number of trees\n",
    "        brf_wout_update_params['T'] = T\n",
    "        # Set max depth for each tree\n",
    "        brf_wout_update_params['depth_max'] = D\n",
    "        # Train classifier\n",
    "        brf_wout_update_accs, brf_wout_update_times = eval_clf(\"Ensemble\", BoostedRandomForest, brf_wout_update_params, X_train, X_test, y_train, y_test, iterations)\n",
    "        # Calcuate mean results\n",
    "        mean_acc = np.mean(brf_wout_update_accs)\n",
    "        mean_time = np.mean(brf_wout_update_times)\n",
    "        print(\"Mean acc: {}; Mean time: {}\".format(mean_acc, mean_time))\n",
    "        # Record results\n",
    "        brf_wout_update_results.append(['brf_wout_update', T, D, mean_acc, mean_time])\n",
    "        \n",
    "        # Report time used for evaluation\n",
    "        end = time()\n",
    "        print(\"Total time spent for evaluation: \", end-start)"
   ]
  },
  {
   "cell_type": "code",
   "execution_count": null,
   "metadata": {},
   "outputs": [],
   "source": []
  },
  {
   "cell_type": "code",
   "execution_count": null,
   "metadata": {},
   "outputs": [],
   "source": [
    "# Evaluate training accuracy on the fly\n",
    "brf_wout_update_clf = BoostedRandomForest(depth_max=20, T=200, weight_update=False, boosting=True)\n",
    "brf_wout_update_clf.fit(X_train, y_train)"
   ]
  },
  {
   "cell_type": "code",
   "execution_count": null,
   "metadata": {},
   "outputs": [],
   "source": [
    "brf_wout_update_train_accs = brf_wout_update_clf.train_accs "
   ]
  },
  {
   "cell_type": "code",
   "execution_count": null,
   "metadata": {},
   "outputs": [],
   "source": [
    "# Output results to csv file\n",
    "brf_wout_update_train_accs_df = pd.DataFrame(brf_wout_update_train_accs)\n",
    "brf_wout_update_train_accs_df.to_csv(\"brf_wout_update_train_accs.csv\", header=['Acc'], index=False)"
   ]
  },
  {
   "cell_type": "code",
   "execution_count": null,
   "metadata": {},
   "outputs": [],
   "source": []
  },
  {
   "cell_type": "code",
   "execution_count": null,
   "metadata": {},
   "outputs": [],
   "source": [
    "\"\"\" Random Forest \"\"\"\n",
    "brf_rf_params = {'weight_update': False, 'boosting': False}\n",
    "\n",
    "brf_rf_results = []\n",
    "start = time()\n",
    "for T in range(5, max_tree+1, 5) :\n",
    "    for D in range(5, max_depth+1, 5) :\n",
    "        print('Max number of trees: {}, Max depth: {}'.format(T, D))\n",
    "        # Set max number of trees\n",
    "        brf_rf_params['T'] = T\n",
    "        # Set max depth for each tree\n",
    "        brf_rf_params['depth_max'] = D\n",
    "        # Train classifier\n",
    "        brf_rf_accs, brf_rf_times = eval_clf(\"RF\", BoostedRandomForest, brf_rf_params, X_train, X_test, y_train, y_test, iterations)\n",
    "        # Calcuate mean results\n",
    "        mean_acc = np.mean(brf_rf_accs)\n",
    "        mean_time = np.mean(brf_rf_times)\n",
    "        print(\"Mean acc: {}; Mean time: {}\".format(mean_acc, mean_time))\n",
    "        # Record results\n",
    "        brf_rf_results.append(['brf_rf', T, D, mean_acc, mean_time])\n",
    "        \n",
    "        # Report time used for evaluation\n",
    "        end = time()\n",
    "        print(\"Total time spent for evaluation: \", end-start)\n",
    "\n"
   ]
  },
  {
   "cell_type": "code",
   "execution_count": null,
   "metadata": {},
   "outputs": [],
   "source": []
  },
  {
   "cell_type": "code",
   "execution_count": null,
   "metadata": {},
   "outputs": [],
   "source": [
    "# Evaluate training accuracy on the fly\n",
    "brf_rf_clf = BoostedRandomForest(depth_max=20, T=200, weight_update=False, boosting=False)\n",
    "brf_rf_clf.fit(X_train, y_train)"
   ]
  },
  {
   "cell_type": "code",
   "execution_count": null,
   "metadata": {},
   "outputs": [],
   "source": [
    "brf_rf_train_accs = brf_rf_clf.train_accs"
   ]
  },
  {
   "cell_type": "code",
   "execution_count": null,
   "metadata": {},
   "outputs": [],
   "source": [
    "# Output results to csv file\n",
    "brf_rf_train_accs_df = pd.DataFrame(brf_rf_train_accs)\n",
    "brf_rf_train_accs_df.to_csv(\"brf_rf_train_accs.csv\", header=['Acc'], index=False)"
   ]
  },
  {
   "cell_type": "code",
   "execution_count": null,
   "metadata": {},
   "outputs": [],
   "source": [
    "# Create a BRF classifier\n",
    "brf = BoostedRandomForest(depth_max=20, T=20)\n",
    "# Train BRF classifier\n",
    "brf.fit(X_train, y_train)\n",
    "# Give predictions\n",
    "brf.ensemble_predict(X_test)"
   ]
  }
 ],
 "metadata": {
  "kernelspec": {
   "display_name": "Python 3",
   "language": "python",
   "name": "python3"
  },
  "language_info": {
   "codemirror_mode": {
    "name": "ipython",
    "version": 3
   },
   "file_extension": ".py",
   "mimetype": "text/x-python",
   "name": "python",
   "nbconvert_exporter": "python",
   "pygments_lexer": "ipython3",
   "version": "3.6.6"
  }
 },
 "nbformat": 4,
 "nbformat_minor": 2
}
