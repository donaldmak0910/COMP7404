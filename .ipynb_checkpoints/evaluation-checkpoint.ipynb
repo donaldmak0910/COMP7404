{
 "cells": [
  {
   "cell_type": "code",
   "execution_count": 1,
   "metadata": {},
   "outputs": [],
   "source": [
    "import pandas as pd\n",
    "import numpy as np"
   ]
  },
  {
   "cell_type": "code",
   "execution_count": 2,
   "metadata": {},
   "outputs": [],
   "source": [
    "\"\"\" Read data to be used \"\"\"\n",
    "# In this example, a dataset about spamming is used\n",
    "data = pd.read_csv('spambase.csv',sep=\",\")\n",
    "data.head()\n",
    "\n",
    "\"\"\" Some preprocessing on data \"\"\"\n",
    "# Number of features\n",
    "m = data.shape[1]\n",
    "# Remove unwanted features\n",
    "X = data.iloc[:,0:48]\n",
    "y = data.iloc[:,(m-1):]\n",
    "\n",
    "# Turn data into onehot format\n",
    "X_onehot = pd.get_dummies(X)"
   ]
  },
  {
   "cell_type": "code",
   "execution_count": 3,
   "metadata": {},
   "outputs": [],
   "source": [
    "from sklearn.model_selection import train_test_split\n",
    "\"\"\" Splitting training and testing data \"\"\"\n",
    "X_train, X_test, y_train, y_test = train_test_split(X_onehot, y, test_size=0.25, random_state=33)"
   ]
  },
  {
   "cell_type": "code",
   "execution_count": 4,
   "metadata": {},
   "outputs": [
    {
     "data": {
      "text/plain": [
       "'brf = BoostedRandomForest()\\nrf = BoostedRandomForest(weight_update=False, boosting=False)\\nbrf_wout_update = BoostedRandomForest(weight_update=False)'"
      ]
     },
     "execution_count": 4,
     "metadata": {},
     "output_type": "execute_result"
    }
   ],
   "source": [
    "\"\"\" Import BRF classifiers \"\"\"\n",
    "from BoostedRandomForest import BoostedRandomForest\n",
    "\"\"\"brf = BoostedRandomForest()\n",
    "rf = BoostedRandomForest(weight_update=False, boosting=False)\n",
    "brf_wout_update = BoostedRandomForest(weight_update=False)\"\"\""
   ]
  },
  {
   "cell_type": "code",
   "execution_count": 5,
   "metadata": {},
   "outputs": [],
   "source": [
    "# Number of iterations to train classifier to get results\n",
    "iterations = 20"
   ]
  },
  {
   "cell_type": "code",
   "execution_count": 26,
   "metadata": {},
   "outputs": [],
   "source": [
    "\"\"\" Function for evaluating a classifier\"\"\"\n",
    "from sklearn.metrics import accuracy_score\n",
    "from time import time\n",
    "\n",
    "def eval_clf(method, CLF, params, X_train, X_test, y_train, y_test, iterations) :\n",
    "    # List of accuracies in each iteration\n",
    "    accs = []\n",
    "    # List of time used for training\n",
    "    times = []\n",
    "    \n",
    "    # Train classifier for iterations\n",
    "    for it in range(iterations) :\n",
    "        print(\"Iteraiton: \", it)        \n",
    "        # Create classifier\n",
    "        clf = CLF(**params)\n",
    "        \n",
    "        #Start timer\n",
    "        start = time()\n",
    "        # Train classifier\n",
    "        clf.fit(X_train, y_train)\n",
    "        # End timer \n",
    "        end = time()\n",
    "        # Record time\n",
    "        times.append(end-start)\n",
    "        \n",
    "        # Give predictions\n",
    "        if method == \"Ensemble\" :\n",
    "            pred = clf.ensemble_predict(X_test)\n",
    "        else :\n",
    "            pred = clf.RF_predict(X_test)\n",
    "            \n",
    "        # Calculate accuracy\n",
    "        acc = accuracy_score(y_test, pred)\n",
    "        \n",
    "        # Record accuracy\n",
    "        accs.append(acc)\n",
    "        \n",
    "    # Return results and times used\n",
    "    return accs, times"
   ]
  },
  {
   "cell_type": "code",
   "execution_count": 27,
   "metadata": {},
   "outputs": [
    {
     "name": "stdout",
     "output_type": "stream",
     "text": [
      "Iteraiton:  0\n",
      "Iteraiton:  1\n",
      "Iteraiton:  2\n",
      "Iteraiton:  3\n",
      "Iteraiton:  4\n",
      "Iteraiton:  5\n",
      "Iteraiton:  6\n",
      "Iteraiton:  7\n",
      "Iteraiton:  8\n",
      "Iteraiton:  9\n",
      "Iteraiton:  10\n",
      "Iteraiton:  11\n",
      "Iteraiton:  12\n",
      "Iteraiton:  13\n",
      "Iteraiton:  14\n",
      "Iteraiton:  15\n",
      "Iteraiton:  16\n",
      "Iteraiton:  17\n",
      "Iteraiton:  18\n",
      "Iteraiton:  19\n"
     ]
    }
   ],
   "source": [
    "\"\"\" Boosted Random Forest \"\"\"\n",
    "brf_params = {'weight_update': False, 'boosting': True}\n",
    "brf_accs, brf_times = eval_clf(\"Ensemble\", BoostedRandomForest, brf_params, X_train, X_test, y_train, y_test, iterations)"
   ]
  },
  {
   "cell_type": "code",
   "execution_count": 28,
   "metadata": {},
   "outputs": [
    {
     "name": "stdout",
     "output_type": "stream",
     "text": [
      "[0.9009556907037359, 0.9339704604691572, 0.9278887923544744, 0.9331016507384883, 0.9131190269331017, 0.9365768896611643, 0.9348392701998263, 0.9400521285838401, 0.8748913987836664, 0.9287576020851434, 0.9383145091225021, 0.9374456993918332, 0.9383145091225021, 0.9374456993918332, 0.945264986967854, 0.9348392701998263, 0.9304952215464813, 0.9304952215464813, 0.9374456993918332, 0.8792354474370113]\n"
     ]
    }
   ],
   "source": [
    "print(brf_accs)"
   ]
  },
  {
   "cell_type": "code",
   "execution_count": 32,
   "metadata": {},
   "outputs": [],
   "source": [
    "params = {'weight_update': False, 'boosting': True}\n",
    "\n",
    "test_brf = BoostedRandomForest(**params)"
   ]
  },
  {
   "cell_type": "code",
   "execution_count": 33,
   "metadata": {},
   "outputs": [
    {
     "name": "stdout",
     "output_type": "stream",
     "text": [
      "False\n"
     ]
    }
   ],
   "source": [
    "print(test_brf.weight_update)"
   ]
  },
  {
   "cell_type": "code",
   "execution_count": null,
   "metadata": {},
   "outputs": [],
   "source": []
  }
 ],
 "metadata": {
  "kernelspec": {
   "display_name": "Python 3",
   "language": "python",
   "name": "python3"
  },
  "language_info": {
   "codemirror_mode": {
    "name": "ipython",
    "version": 3
   },
   "file_extension": ".py",
   "mimetype": "text/x-python",
   "name": "python",
   "nbconvert_exporter": "python",
   "pygments_lexer": "ipython3",
   "version": "3.6.6"
  }
 },
 "nbformat": 4,
 "nbformat_minor": 2
}
