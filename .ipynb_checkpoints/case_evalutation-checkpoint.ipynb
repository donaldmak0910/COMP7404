{
 "cells": [
  {
   "cell_type": "code",
   "execution_count": 1,
   "metadata": {},
   "outputs": [],
   "source": [
    "\"\"\" The following cells are required to be executed first, before running the experiments. \"\"\""
   ]
  },
  {
   "cell_type": "code",
   "execution_count": null,
   "metadata": {},
   "outputs": [],
   "source": [
    "\"\"\" REQUIRED: Import required packages \"\"\"\n",
    "import pandas as pd\n",
    "import numpy as np\n",
    "from time import time\n",
    "import matplotlib.pyplot as plt\n",
    "%matplotlib inline"
   ]
  },
  {
   "cell_type": "code",
   "execution_count": null,
   "metadata": {},
   "outputs": [],
   "source": [
    "\"\"\" REQUIRED: Read and Prepare data\"\"\"\n",
    "\"\"\" Read data to be used \"\"\"\n",
    "# In this example, a dataset about spamming is used\n",
    "data = pd.read_csv('spambase.csv',sep=\",\")\n",
    "data.head()\n",
    "\n",
    "\"\"\" Some preprocessing on data \"\"\"\n",
    "# Number of features\n",
    "m = data.shape[1]\n",
    "# Remove unwanted features\n",
    "X = data.iloc[:,0:48]\n",
    "y = data.iloc[:,(m-1):]\n",
    "\n",
    "# Turn data into onehot format\n",
    "X_onehot = pd.get_dummies(X)"
   ]
  },
  {
   "cell_type": "code",
   "execution_count": null,
   "metadata": {},
   "outputs": [],
   "source": [
    "\"\"\" REQUIRED: Splitting training and testing data \"\"\"\n",
    "from sklearn.model_selection import train_test_split\n",
    "X_train, X_test, y_train, y_test = train_test_split(X_onehot, y, test_size=0.25, random_state=33)"
   ]
  },
  {
   "cell_type": "code",
   "execution_count": null,
   "metadata": {},
   "outputs": [],
   "source": [
    "print(\"% of spams (train): \", np.mean(y_train))\n",
    "print(\"% of spams (test): \", np.mean(y_test))"
   ]
  },
  {
   "cell_type": "code",
   "execution_count": null,
   "metadata": {},
   "outputs": [],
   "source": [
    "\"\"\" REQUIRED: Import BRF Classifier Module \"\"\"\n",
    "from BoostedRandomForest import BoostedRandomForest\n",
    "# Example usage\n",
    "#brf = BoostedRandomForest()\n",
    "#rf = BoostedRandomForest(weight_update=False, boosting=False)\n",
    "#brf_wout_update = BoostedRandomForest(weight_update=False)"
   ]
  },
  {
   "cell_type": "code",
   "execution_count": null,
   "metadata": {},
   "outputs": [],
   "source": [
    "\"\"\" REQURED: Default parameters \"\"\"\n",
    "# The parameters can be changed according to the situation.\n",
    "# The following gives a set of sample values for the parameters.\n",
    "brf_params = {'T': 250,\n",
    "              'depth_max': 20,\n",
    "              'weight_update': True,\n",
    "              'boosting': True,\n",
    "             }\n"
   ]
  },
  {
   "cell_type": "code",
   "execution_count": null,
   "metadata": {},
   "outputs": [],
   "source": []
  },
  {
   "cell_type": "code",
   "execution_count": null,
   "metadata": {},
   "outputs": [],
   "source": [
    "\"\"\"\n",
    "Each of the following sections, separated by comments quouted by 3 quotation marks (\\\"\\\"\\\"), \n",
    "represents a test case, which is also descriped in the comments themselves.\n",
    "Please execute the desired secion of cells in order.\n",
    "\"\"\" "
   ]
  },
  {
   "cell_type": "code",
   "execution_count": null,
   "metadata": {},
   "outputs": [],
   "source": [
    "\"\"\" Mean performance without early stop \"\"\"\n",
    "brf_ns_mean_params = brf_params\n",
    "# Disable early stopping\n",
    "brf_ns_mean_params['early_stop'] = False"
   ]
  },
  {
   "cell_type": "code",
   "execution_count": null,
   "metadata": {},
   "outputs": [],
   "source": [
    "brf_ns_accs = []\n",
    "brf_ns_tree_cnts = []\n",
    "brf_ns_times = []\n",
    "\n",
    "loop_start = time()\n",
    "# Take mean performance from 20 trials\n",
    "for it in range(20) :\n",
    "    print(\"Iteration: \", it)\n",
    "    # Create new classifier\n",
    "    brf_ns_mean_clf = BoostedRandomForest(**brf_ns_mean_params)\n",
    "    \n",
    "    # Train classifier\n",
    "    start =  time()\n",
    "    brf_ns_mean_clf.fit(X_train, y_train)\n",
    "    end = time()\n",
    "    \n",
    "    # Record results\n",
    "    brf_ns_accs.append(brf_ns_mean_clf.train_accs)\n",
    "    brf_ns_tree_cnts.append(len(brf_ns_mean_clf.clfs))\n",
    "    brf_ns_times.append(end-start)\n",
    "    \n",
    "    print(\"Time used from start: \", time()-loop_start)\n",
    "    "
   ]
  },
  {
   "cell_type": "code",
   "execution_count": null,
   "metadata": {},
   "outputs": [],
   "source": [
    "# Find out forest with fewest tree\n",
    "brf_ns_min_tree_cnt = min(brf_ns_tree_cnts)\n",
    "print(\"Min #Tree: \", brf_ns_min_tree_cnt)\n",
    "\n",
    "brf_ns_mean_tree_cnt = np.mean(brf_ns_tree_cnts)\n",
    "print(\"Mean #Tree: \", brf_ns_mean_tree_cnt)\n",
    "\n",
    "brf_ns_mean_time = np.mean(brf_ns_times)\n",
    "print(\"Mean time used: \", brf_ns_mean_time)\n",
    "\n",
    "# Trim records by min_tree_cnt\n",
    "trimmed_accs = [ accs[:brf_ns_min_tree_cnt] for accs in brf_ns_accs ]\n",
    "brf_ns_mean_accs = np.mean(trimmed_accs, axis=0)\n",
    "\n",
    "print(brf_ns_mean_accs)\n"
   ]
  },
  {
   "cell_type": "code",
   "execution_count": null,
   "metadata": {},
   "outputs": [],
   "source": [
    "# Pad accuracy list to length of depth_max\n",
    "padded_brf_ns_mean_accs = np.hstack([brf_ns_mean_accs, np.array([-1]*(250-brf_ns_min_tree_cnt))])\n",
    "\n",
    "# Output to csv \n",
    "brf_ns_mean_accs_df = pd.DataFrame(padded_brf_ns_mean_accs)\n",
    "brf_ns_mean_accs_df.to_csv(\"Results/brf_ns_mean_accs.csv\", index=False)"
   ]
  },
  {
   "cell_type": "code",
   "execution_count": null,
   "metadata": {},
   "outputs": [],
   "source": []
  },
  {
   "cell_type": "code",
   "execution_count": null,
   "metadata": {},
   "outputs": [],
   "source": [
    "\"\"\" Mean performance with early stop \"\"\"\n",
    "brf_es_mean_params = brf_params\n",
    "brf_es_mean_params['eps_ub'] = 0.5\n",
    "brf_es_mean_params['eps_lb'] = 1e-20\n",
    "brf_es_mean_params['eps_exceed_limit'] = 5\n",
    "# Enable early stopping\n",
    "brf_es_mean_params['early_stop'] = True"
   ]
  },
  {
   "cell_type": "code",
   "execution_count": null,
   "metadata": {},
   "outputs": [],
   "source": [
    "brf_es_accs = []\n",
    "brf_es_tree_cnts = []\n",
    "brf_es_times = []\n",
    "\n",
    "loop_start = time()\n",
    "# Take mean performance from 20 trials\n",
    "for it in range(20) :\n",
    "    print(\"Iteration: \", it)\n",
    "    # Create new classifier \n",
    "    brf_es_mean_clf = BoostedRandomForest(**brf_es_mean_params)\n",
    "    \n",
    "    # Train classifier\n",
    "    start =  time()\n",
    "    brf_es_mean_clf.fit(X_train, y_train)\n",
    "    end = time()\n",
    "    \n",
    "    # Record results\n",
    "    brf_es_accs.append(brf_es_mean_clf.train_accs)\n",
    "    brf_es_tree_cnts.append(len(brf_es_mean_clf.clfs))\n",
    "    brf_es_times.append(end-start)\n",
    "    \n",
    "    print(\"Time used from start: \", time()-loop_start)\n",
    "    "
   ]
  },
  {
   "cell_type": "code",
   "execution_count": null,
   "metadata": {},
   "outputs": [],
   "source": [
    "# Find out forest with fewest tree\n",
    "brf_es_min_tree_cnt = min(brf_es_tree_cnts)\n",
    "print(\"Min #Tree: \", brf_es_min_tree_cnt)\n",
    "\n",
    "brf_es_mean_tree_cnt = np.mean(brf_es_tree_cnts)\n",
    "print(\"Mean #Tree: \", brf_es_mean_tree_cnt)\n",
    "\n",
    "brf_es_mean_time = np.mean(brf_es_times)\n",
    "print(\"Mean time used: \", brf_es_mean_time)\n",
    "\n",
    "# Trim records by min_tree_cnt\n",
    "trimmed_accs = [ accs[:brf_es_min_tree_cnt] for accs in brf_es_accs ]\n",
    "brf_es_mean_accs = np.mean(trimmed_accs, axis=0)\n",
    "\n",
    "print(brf_es_mean_accs)\n",
    "\n"
   ]
  },
  {
   "cell_type": "code",
   "execution_count": null,
   "metadata": {},
   "outputs": [],
   "source": [
    "# Pad accuracy list to length of depth_max\n",
    "padded_brf_es_mean_accs = np.hstack([brf_es_mean_accs, np.array([-1]*(250-brf_es_min_tree_cnt))])\n",
    "\n",
    "# Output to csv \n",
    "brf_es_mean_accs_df = pd.DataFrame(padded_brf_es_mean_accs)\n",
    "brf_es_mean_accs_df.to_csv(\"Results/brf_es_mean_accs.csv\", index=False)"
   ]
  },
  {
   "cell_type": "code",
   "execution_count": null,
   "metadata": {},
   "outputs": [],
   "source": []
  },
  {
   "cell_type": "code",
   "execution_count": null,
   "metadata": {},
   "outputs": [],
   "source": []
  },
  {
   "cell_type": "code",
   "execution_count": null,
   "metadata": {},
   "outputs": [],
   "source": [
    "\"\"\" Mean performance without weight updates without early stop \"\"\"\n",
    "brf_wout_update_mean_params = brf_params\n",
    "brf_wout_update_mean_params['eps_ub'] = 0.5\n",
    "brf_wout_update_mean_params['eps_lb'] = 1e-20\n",
    "brf_wout_update_mean_params['eps_exceed_limit'] = 5\n",
    "# Disable early stopping\n",
    "brf_wout_update_mean_params['early_stop'] = False\n",
    "# Without weight update\n",
    "brf_wout_update_mean_params['weight_update'] = False\n",
    "brf_wout_update_mean_params['boosting'] = True"
   ]
  },
  {
   "cell_type": "code",
   "execution_count": null,
   "metadata": {},
   "outputs": [],
   "source": [
    "brf_wout_update_accs = []\n",
    "brf_wout_update_tree_cnts = []\n",
    "brf_wout_update_times = []\n",
    "\n",
    "loop_start = time()\n",
    "# Take mean performance from 20 trials\n",
    "for it in range(20) :\n",
    "    print(\"Iteration: \", it)\n",
    "    # Create new classifier \n",
    "    brf_wout_update_mean_clf = BoostedRandomForest(**brf_wout_update_mean_params)\n",
    "    \n",
    "    # Train classifier\n",
    "    start =  time()\n",
    "    brf_wout_update_mean_clf.fit(X_train, y_train)\n",
    "    end = time()\n",
    "    \n",
    "    # Record results\n",
    "    brf_wout_update_accs.append(brf_wout_update_mean_clf.train_accs)\n",
    "    brf_wout_update_tree_cnts.append(len(brf_wout_update_mean_clf.clfs))\n",
    "    brf_wout_update_times.append(end-start)\n",
    "    \n",
    "    print(\"Time used from start: \", time()-loop_start)\n",
    "    "
   ]
  },
  {
   "cell_type": "code",
   "execution_count": null,
   "metadata": {},
   "outputs": [],
   "source": [
    "# Find out forest with fewest tree\n",
    "brf_wout_update_min_tree_cnt = min(brf_wout_update_tree_cnts)\n",
    "print(\"Min #Tree: \", brf_wout_update_min_tree_cnt)\n",
    "\n",
    "brf_wout_update_mean_tree_cnt = np.mean(brf_wout_update_tree_cnts)\n",
    "print(\"Mean #Tree: \", brf_wout_update_mean_tree_cnt)\n",
    "\n",
    "brf_wout_update_mean_time = np.mean(brf_wout_update_times)\n",
    "print(\"Mean time used: \", brf_wout_update_mean_time)\n",
    "\n",
    "# Trim records by min_tree_cnt\n",
    "trimmed_accs = [ accs[:brf_wout_update_min_tree_cnt] for accs in brf_wout_update_accs ]\n",
    "brf_wout_update_mean_accs = np.mean(trimmed_accs, axis=0)\n",
    "\n",
    "print(\"Max acc: \", max(brf_wout_update_mean_accs))\n",
    "print(brf_wout_update_mean_accs)"
   ]
  },
  {
   "cell_type": "code",
   "execution_count": null,
   "metadata": {},
   "outputs": [],
   "source": [
    "# Output to csv \n",
    "brf_wout_update_mean_accs_df = pd.DataFrame(brf_wout_update_mean_accs)\n",
    "brf_wout_update_mean_accs_df.to_csv(\"Results/brf_wout_update_mean_accs.csv\", index=False)"
   ]
  },
  {
   "cell_type": "code",
   "execution_count": null,
   "metadata": {},
   "outputs": [],
   "source": []
  },
  {
   "cell_type": "code",
   "execution_count": null,
   "metadata": {},
   "outputs": [],
   "source": [
    "\"\"\" Mean performane with RF \"\"\"\n",
    "brf_rf_mean_params = brf_params\n",
    "brf_rf_mean_params['eps_ub'] = 0.5\n",
    "brf_rf_mean_params['eps_lb'] = 1e-20\n",
    "brf_rf_mean_params['eps_exceed_limit'] = 5\n",
    "# Disable early stopping\n",
    "brf_rf_mean_params['early_stop'] = False\n",
    "# RF\n",
    "brf_rf_mean_params['weight_update'] = False\n",
    "brf_rf_mean_params['boosting'] = False"
   ]
  },
  {
   "cell_type": "code",
   "execution_count": null,
   "metadata": {},
   "outputs": [],
   "source": [
    "brf_rf_accs = []\n",
    "brf_rf_tree_cnts = []\n",
    "brf_rf_times = []\n",
    "\n",
    "loop_start = time()\n",
    "# Take mean performance from 20 trials\n",
    "for it in range(20) :\n",
    "    print(\"Iteration: \", it)\n",
    "    # Create new classifier \n",
    "    brf_rf_mean_clf = BoostedRandomForest(**brf_rf_mean_params)\n",
    "    \n",
    "    # Train classifier\n",
    "    start =  time()\n",
    "    brf_rf_mean_clf.fit(X_train, y_train)\n",
    "    end = time()\n",
    "    \n",
    "    # Record results\n",
    "    brf_rf_accs.append(brf_rf_mean_clf.train_accs)\n",
    "    brf_rf_tree_cnts.append(len(brf_rf_mean_clf.clfs))\n",
    "    brf_rf_times.append(end-start)\n",
    "    \n",
    "    print(\"Time used from start: \", time()-loop_start)\n",
    "    "
   ]
  },
  {
   "cell_type": "code",
   "execution_count": null,
   "metadata": {},
   "outputs": [],
   "source": [
    "# Find out forest with fewest tree\n",
    "brf_rf_min_tree_cnt = min(brf_rf_tree_cnts)\n",
    "print(\"Min #Tree: \", brf_rf_min_tree_cnt)\n",
    "\n",
    "brf_rf_mean_tree_cnt = np.mean(brf_rf_tree_cnts)\n",
    "print(\"Mean #Tree: \", brf_rf_mean_tree_cnt)\n",
    "\n",
    "brf_rf_mean_time = np.mean(brf_rf_times)\n",
    "print(\"Mean time used: \", brf_rf_mean_time)\n",
    "\n",
    "# Trim records by min_tree_cnt\n",
    "trimmed_accs = [ accs[:brf_rf_min_tree_cnt] for accs in brf_rf_accs ]\n",
    "brf_rf_mean_accs = np.mean(trimmed_accs, axis=0)\n",
    "\n",
    "print(\"Max acc: \", max(brf_rf_mean_accs))\n",
    "print(brf_rf_mean_accs)\n",
    "\n"
   ]
  },
  {
   "cell_type": "code",
   "execution_count": null,
   "metadata": {},
   "outputs": [],
   "source": [
    "# Output to csv \n",
    "brf_rf_mean_accs_df = pd.DataFrame(brf_rf_mean_accs)\n",
    "brf_rf_mean_accs_df.to_csv(\"Results/brf_rf_mean_accs.csv\", index=False)"
   ]
  },
  {
   "cell_type": "code",
   "execution_count": null,
   "metadata": {},
   "outputs": [],
   "source": []
  },
  {
   "cell_type": "code",
   "execution_count": null,
   "metadata": {},
   "outputs": [],
   "source": []
  },
  {
   "cell_type": "code",
   "execution_count": null,
   "metadata": {},
   "outputs": [],
   "source": [
    "\"\"\" Plot: With vs W/Out Early Stopping  \"\"\"\n",
    "fig1, ax1 = plt.subplots()\n",
    "plt.suptitle(\"Boosted Random Forest\")\n",
    "plt.title(\"With vs W/out Early Stops\")\n",
    "ax1.set_xlabel('Trees across Training')\n",
    "ax1.set_ylabel('Acc')  \n",
    "ax1.tick_params(axis='y')\n",
    "\n",
    "# Nonstop\n",
    "color = 'tab:blue'\n",
    "ax1.plot(brf_ns_mean_accs, color=color, label=\"Non-stop\")\n",
    "\n",
    "\n",
    "# Early Stop\n",
    "color = 'tab:red'\n",
    "ax1.plot(brf_es_mean_accs, color=color, label=\"Early Stop\")\n",
    "color = 'tab:red'\n",
    "plt.axvline(x=brf_es_min_tree_cnt, color=color, label=\"Early Stop line\")\n",
    "\n",
    "plt.grid()\n",
    "plt.legend()\n",
    "plt.show()"
   ]
  },
  {
   "cell_type": "code",
   "execution_count": null,
   "metadata": {},
   "outputs": [],
   "source": [
    "\"\"\" Plot: BRF vs BRF w/out update vs RF  \"\"\"\n",
    "num_Tree = 150\n",
    "\n",
    "fig2, ax1 = plt.subplots()\n",
    "plt.suptitle(\"Prediction Accuracy\")\n",
    "plt.title(\"BRF vs BRF w/out update vs RF\")\n",
    "ax1.set_xlabel('Trees across Training')\n",
    "ax1.set_ylabel('Acc')  \n",
    "ax1.tick_params(axis='y')\n",
    "ax1.set_xticks(list(range(0, num_Tree+1, 10)))\n",
    "\n",
    "# BRF\n",
    "color = 'tab:blue'\n",
    "ax1.plot(brf_ns_mean_accs[:num_Tree], color=color, label=\"BRF\")\n",
    "# W/out weight update\n",
    "color = 'tab:orange'\n",
    "ax1.plot(brf_wout_updates_mean_accs[:num_Tree], color=color, label=\"BRF W/out Update\")\n",
    "# RF\n",
    "color = 'tab:green'\n",
    "ax1.plot(brf_rf_mean_accs[:num_Tree], color=color, label=\"RF\")\n",
    "\n",
    "\n",
    "plt.grid()\n",
    "plt.legend()\n",
    "plt.show()"
   ]
  },
  {
   "cell_type": "code",
   "execution_count": null,
   "metadata": {},
   "outputs": [],
   "source": [
    "\"\"\" Plot: Epsilons vs Alphas \"\"\"\n",
    "\n",
    "# Error rates\n",
    "brf_ns_eps = brf_ns_mean_clf.all_eps\n",
    "# Alpha\n",
    "brf_ns_alphas = brf_ns_mean_clf.all_alphas\n",
    "# Stop index\n",
    "brf_es_stop_index = brf_es_mean_clf.stop_index\n",
    "\n",
    "\n",
    "fig1, ax1 = plt.subplots()\n",
    "plt.title(\"Boosted Random Forest\")\n",
    "plt.title(\"Error rate (Eps) vs Tree weights (Alpha)\")\n",
    "ax1.set_xlabel('Trees across Training')\n",
    "\n",
    "# Epsilons\n",
    "color = 'tab:orange'\n",
    "ax1.set_ylabel('eps', color=color)\n",
    "ax1.plot(brf_ns_eps, color=color)\n",
    "ax1.tick_params(axis='y', labelcolor=color)\n",
    "\n",
    "ax2 = ax1.twinx()\n",
    "# Alphas\n",
    "color = 'tab:blue'\n",
    "ax2.set_ylabel('alphas', color=color)  \n",
    "ax2.plot(brf_ns_alphas, color=color)\n",
    "ax2.tick_params(axis='y', labelcolor=color)\n",
    "\n",
    "# Epsilon limits\n",
    "color = \"tab:grey\"\n",
    "ax1.axhline(y=brf_ns_mean_params['eps_ub'], color=color, label=\"eps_ub\")\n",
    "ax1.axhline(y=brf_ns_mean_params['eps_lb'], color=color, label=\"eps_lb\")\n",
    "\n",
    "# Early stop\n",
    "color = 'tab:green'\n",
    "ax1.axvline(x=brf_es_stop_index, color=color, label=\"early_stop\")\n",
    "\n",
    "ax1.legend(loc='center right', bbox_to_anchor=(1.37, 0.9))\n",
    "plt.subplots_adjust(right=0.4)\n",
    "fig1.tight_layout()  # otherwise the right y-label is slightly clipped\n",
    "plt.show()"
   ]
  },
  {
   "cell_type": "code",
   "execution_count": null,
   "metadata": {},
   "outputs": [],
   "source": []
  }
 ],
 "metadata": {
  "kernelspec": {
   "display_name": "Python 3",
   "language": "python",
   "name": "python3"
  },
  "language_info": {
   "codemirror_mode": {
    "name": "ipython",
    "version": 3
   },
   "file_extension": ".py",
   "mimetype": "text/x-python",
   "name": "python",
   "nbconvert_exporter": "python",
   "pygments_lexer": "ipython3",
   "version": "3.6.6"
  }
 },
 "nbformat": 4,
 "nbformat_minor": 2
}
